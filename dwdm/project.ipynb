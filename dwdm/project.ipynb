{
 "cells": [
  {
   "cell_type": "code",
   "execution_count": 38,
   "metadata": {},
   "outputs": [
    {
     "name": "stdout",
     "output_type": "stream",
     "text": [
      "D:\\DWDM\n"
     ]
    }
   ],
   "source": [
    "import os\n",
    "import pandas as pd\n",
    "import numpy as np\n",
    "import matplotlib.pyplot as plt\n",
    "\n",
    "from sklearn.preprocessing import LabelEncoder\n",
    "from sklearn import model_selection\n",
    "\n",
    "from sklearn.neighbors import KNeighborsClassifier\n",
    "from sklearn.preprocessing import StandardScaler\n",
    "\n",
    "import math\n",
    "\n",
    "from sklearn.metrics import accuracy_score\n",
    "\n",
    "print(os.getcwd())\n",
    "f_read=pd.read_csv(\"311_Service_Requests_from_2010_to_Present.csv\",sep=',', error_bad_lines=False, index_col=False, dtype='unicode')\n",
    "data_set=f_read.loc[:,['Created Date', 'Closed Date', 'Agency', 'Complaint Type','Location Type','City',\n",
    "                 'Facility Type','Status', 'Due Date','Resolution Action Updated Date','Borough','Park Borough']]\n",
    "#print(data_set)\n",
    "\n",
    "data_set.columns=['Created_Date', 'Closed_Date', 'Agency', 'Complaint_Type','Location_Type','City',\n",
    "                 'Facility_Type','Status', 'Due_Date','Resolution_Action_Upd_Date','Borough','Park_Borough']\n",
    "#print(data_set)\n",
    "#print(data_set.isnull().sum())\n",
    "\n"
   ]
  },
  {
   "cell_type": "code",
   "execution_count": 39,
   "metadata": {},
   "outputs": [
    {
     "name": "stdout",
     "output_type": "stream",
     "text": [
      "City      Complaint_Type         \n",
      "ARVERNE   Animal Abuse                3\n",
      "          Derelict Vehicle            1\n",
      "          Illegal Parking             6\n",
      "          Noise - Commercial          1\n",
      "          Noise - Street/Sidewalk     2\n",
      "                                     ..\n",
      "WOODSIDE  Noise - Street/Sidewalk    18\n",
      "          Noise - Vehicle            12\n",
      "          Traffic                     1\n",
      "          Vending                     2\n",
      "Woodside  Illegal Parking             1\n",
      "Length: 445, dtype: int64\n"
     ]
    }
   ],
   "source": [
    "city_complaint_type=data_set.groupby(['City','Complaint_Type'])\n",
    "print(city_complaint_type.size())"
   ]
  },
  {
   "cell_type": "code",
   "execution_count": 40,
   "metadata": {},
   "outputs": [
    {
     "name": "stdout",
     "output_type": "stream",
     "text": [
      "['Noise - Street/Sidewalk' 'Blocked Driveway' 'Illegal Parking'\n",
      " 'Derelict Vehicle' 'Noise - Commercial' 'Noise - House of Worship'\n",
      " 'Posting Advertisement' 'Noise - Vehicle' 'Animal Abuse' 'Vending'\n",
      " 'Traffic' 'Drinking' 'Bike/Roller/Skate Chronic' 'Panhandling'\n",
      " 'Noise - Park' 'Homeless Encampment' 'Urinating in Public' 'Graffiti'\n",
      " 'Disorderly Youth' 'Illegal Fireworks' 'Ferry Complaint' nan]\n"
     ]
    }
   ],
   "source": [
    "print(data_set['Complaint_Type'].unique())"
   ]
  },
  {
   "cell_type": "code",
   "execution_count": 41,
   "metadata": {},
   "outputs": [],
   "source": [
    "complaint_type = data_set.groupby('Complaint_Type')"
   ]
  },
  {
   "cell_type": "code",
   "execution_count": 42,
   "metadata": {},
   "outputs": [],
   "source": [
    "complaint_analysis=complaint_type.size()"
   ]
  },
  {
   "cell_type": "code",
   "execution_count": 43,
   "metadata": {},
   "outputs": [
    {
     "name": "stdout",
     "output_type": "stream",
     "text": [
      "Complaint_Type\n",
      "Animal Abuse                  616\n",
      "Bike/Roller/Skate Chronic      35\n",
      "Blocked Driveway             5755\n",
      "Derelict Vehicle             1335\n",
      "Disorderly Youth               19\n",
      "Drinking                      111\n",
      "Ferry Complaint                 1\n",
      "Graffiti                        5\n",
      "Homeless Encampment           357\n",
      "Illegal Fireworks               5\n",
      "Illegal Parking              5552\n",
      "Noise - Commercial           2024\n",
      "Noise - House of Worship       85\n",
      "Noise - Park                  351\n",
      "Noise - Street/Sidewalk      4083\n",
      "Noise - Vehicle              1279\n",
      "Panhandling                    26\n",
      "Posting Advertisement          48\n",
      "Traffic                       218\n",
      "Urinating in Public            44\n",
      "Vending                       349\n",
      "dtype: int64\n"
     ]
    }
   ],
   "source": [
    "print(complaint_type.size())"
   ]
  },
  {
   "cell_type": "code",
   "execution_count": 44,
   "metadata": {},
   "outputs": [],
   "source": [
    "df=complaint_analysis.to_frame().reset_index()"
   ]
  },
  {
   "cell_type": "code",
   "execution_count": 45,
   "metadata": {},
   "outputs": [
    {
     "data": {
      "text/html": [
       "<div>\n",
       "<style scoped>\n",
       "    .dataframe tbody tr th:only-of-type {\n",
       "        vertical-align: middle;\n",
       "    }\n",
       "\n",
       "    .dataframe tbody tr th {\n",
       "        vertical-align: top;\n",
       "    }\n",
       "\n",
       "    .dataframe thead th {\n",
       "        text-align: right;\n",
       "    }\n",
       "</style>\n",
       "<table border=\"1\" class=\"dataframe\">\n",
       "  <thead>\n",
       "    <tr style=\"text-align: right;\">\n",
       "      <th></th>\n",
       "      <th>Complaint_Type</th>\n",
       "      <th>FREQ</th>\n",
       "    </tr>\n",
       "  </thead>\n",
       "  <tbody>\n",
       "    <tr>\n",
       "      <th>0</th>\n",
       "      <td>Animal Abuse</td>\n",
       "      <td>616</td>\n",
       "    </tr>\n",
       "    <tr>\n",
       "      <th>1</th>\n",
       "      <td>Bike/Roller/Skate Chronic</td>\n",
       "      <td>35</td>\n",
       "    </tr>\n",
       "    <tr>\n",
       "      <th>2</th>\n",
       "      <td>Blocked Driveway</td>\n",
       "      <td>5755</td>\n",
       "    </tr>\n",
       "    <tr>\n",
       "      <th>3</th>\n",
       "      <td>Derelict Vehicle</td>\n",
       "      <td>1335</td>\n",
       "    </tr>\n",
       "    <tr>\n",
       "      <th>4</th>\n",
       "      <td>Disorderly Youth</td>\n",
       "      <td>19</td>\n",
       "    </tr>\n",
       "    <tr>\n",
       "      <th>5</th>\n",
       "      <td>Drinking</td>\n",
       "      <td>111</td>\n",
       "    </tr>\n",
       "    <tr>\n",
       "      <th>6</th>\n",
       "      <td>Ferry Complaint</td>\n",
       "      <td>1</td>\n",
       "    </tr>\n",
       "    <tr>\n",
       "      <th>7</th>\n",
       "      <td>Graffiti</td>\n",
       "      <td>5</td>\n",
       "    </tr>\n",
       "    <tr>\n",
       "      <th>8</th>\n",
       "      <td>Homeless Encampment</td>\n",
       "      <td>357</td>\n",
       "    </tr>\n",
       "    <tr>\n",
       "      <th>9</th>\n",
       "      <td>Illegal Fireworks</td>\n",
       "      <td>5</td>\n",
       "    </tr>\n",
       "    <tr>\n",
       "      <th>10</th>\n",
       "      <td>Illegal Parking</td>\n",
       "      <td>5552</td>\n",
       "    </tr>\n",
       "    <tr>\n",
       "      <th>11</th>\n",
       "      <td>Noise - Commercial</td>\n",
       "      <td>2024</td>\n",
       "    </tr>\n",
       "    <tr>\n",
       "      <th>12</th>\n",
       "      <td>Noise - House of Worship</td>\n",
       "      <td>85</td>\n",
       "    </tr>\n",
       "    <tr>\n",
       "      <th>13</th>\n",
       "      <td>Noise - Park</td>\n",
       "      <td>351</td>\n",
       "    </tr>\n",
       "    <tr>\n",
       "      <th>14</th>\n",
       "      <td>Noise - Street/Sidewalk</td>\n",
       "      <td>4083</td>\n",
       "    </tr>\n",
       "    <tr>\n",
       "      <th>15</th>\n",
       "      <td>Noise - Vehicle</td>\n",
       "      <td>1279</td>\n",
       "    </tr>\n",
       "    <tr>\n",
       "      <th>16</th>\n",
       "      <td>Panhandling</td>\n",
       "      <td>26</td>\n",
       "    </tr>\n",
       "    <tr>\n",
       "      <th>17</th>\n",
       "      <td>Posting Advertisement</td>\n",
       "      <td>48</td>\n",
       "    </tr>\n",
       "    <tr>\n",
       "      <th>18</th>\n",
       "      <td>Traffic</td>\n",
       "      <td>218</td>\n",
       "    </tr>\n",
       "    <tr>\n",
       "      <th>19</th>\n",
       "      <td>Urinating in Public</td>\n",
       "      <td>44</td>\n",
       "    </tr>\n",
       "    <tr>\n",
       "      <th>20</th>\n",
       "      <td>Vending</td>\n",
       "      <td>349</td>\n",
       "    </tr>\n",
       "  </tbody>\n",
       "</table>\n",
       "</div>"
      ],
      "text/plain": [
       "               Complaint_Type  FREQ\n",
       "0                Animal Abuse   616\n",
       "1   Bike/Roller/Skate Chronic    35\n",
       "2            Blocked Driveway  5755\n",
       "3            Derelict Vehicle  1335\n",
       "4            Disorderly Youth    19\n",
       "5                    Drinking   111\n",
       "6             Ferry Complaint     1\n",
       "7                    Graffiti     5\n",
       "8         Homeless Encampment   357\n",
       "9           Illegal Fireworks     5\n",
       "10            Illegal Parking  5552\n",
       "11         Noise - Commercial  2024\n",
       "12   Noise - House of Worship    85\n",
       "13               Noise - Park   351\n",
       "14    Noise - Street/Sidewalk  4083\n",
       "15            Noise - Vehicle  1279\n",
       "16                Panhandling    26\n",
       "17      Posting Advertisement    48\n",
       "18                    Traffic   218\n",
       "19        Urinating in Public    44\n",
       "20                    Vending   349"
      ]
     },
     "execution_count": 45,
     "metadata": {},
     "output_type": "execute_result"
    }
   ],
   "source": [
    "df.columns=['Complaint_Type','FREQ']\n",
    "df"
   ]
  },
  {
   "cell_type": "code",
   "execution_count": 46,
   "metadata": {},
   "outputs": [],
   "source": [
    "sort_1=df.sort_values('FREQ',ascending=False)"
   ]
  },
  {
   "cell_type": "code",
   "execution_count": 47,
   "metadata": {},
   "outputs": [
    {
     "data": {
      "image/png": "[encoded data removed]",
      "text/plain": [
       "<Figure size 432x288 with 1 Axes>"
      ]
     },
     "metadata": {
      "needs_background": "light"
     },
     "output_type": "display_data"
    }
   ],
   "source": [
    "top10=sort_1.head(10)\n",
    "x=range(10)\n",
    "plt.bar(top10.Complaint_Type, top10.FREQ)\n",
    "plt.xticks(x, top10.Complaint_Type, rotation='vertical')\n",
    "plt.legend(['complaint'])\n",
    "plt.show()\n"
   ]
  },
  {
   "cell_type": "code",
   "execution_count": 48,
   "metadata": {},
   "outputs": [
    {
     "name": "stdout",
     "output_type": "stream",
     "text": [
      "Created_Date                  164824\n",
      "Closed_Date                   165084\n",
      "Agency                        164824\n",
      "Complaint_Type                164824\n",
      "Location_Type                 164824\n",
      "City                          165107\n",
      "Facility_Type                 165084\n",
      "Status                        164824\n",
      "Due_Date                      164825\n",
      "Resolution_Action_Upd_Date    165081\n",
      "Borough                       164824\n",
      "Park_Borough                  164824\n",
      "dtype: int64\n"
     ]
    }
   ],
   "source": [
    "print(data_set.isnull().sum())"
   ]
  },
  {
   "cell_type": "code",
   "execution_count": 49,
   "metadata": {},
   "outputs": [
    {
     "name": "stdout",
     "output_type": "stream",
     "text": [
      "Created_Date                  object\n",
      "Closed_Date                   object\n",
      "Agency                        object\n",
      "Complaint_Type                object\n",
      "Location_Type                 object\n",
      "City                          object\n",
      "Facility_Type                 object\n",
      "Status                        object\n",
      "Due_Date                      object\n",
      "Resolution_Action_Upd_Date    object\n",
      "Borough                       object\n",
      "Park_Borough                  object\n",
      "dtype: object\n"
     ]
    }
   ],
   "source": [
    "print(data_set.dtypes)"
   ]
  },
  {
   "cell_type": "code",
   "execution_count": 50,
   "metadata": {},
   "outputs": [],
   "source": [
    "data_set['City']=data_set['City'].fillna('Unknown')"
   ]
  },
  {
   "cell_type": "code",
   "execution_count": 51,
   "metadata": {},
   "outputs": [
    {
     "data": {
      "text/plain": [
       "0         NEW YORK\n",
       "1          ASTORIA\n",
       "2            BRONX\n",
       "3            BRONX\n",
       "4         ELMHURST\n",
       "            ...   \n",
       "187117     Unknown\n",
       "187118     Unknown\n",
       "187119     Unknown\n",
       "187120     Unknown\n",
       "187121     Unknown\n",
       "Name: City, Length: 187122, dtype: object"
      ]
     },
     "execution_count": 51,
     "metadata": {},
     "output_type": "execute_result"
    }
   ],
   "source": [
    "data_set['City']"
   ]
  },
  {
   "cell_type": "code",
   "execution_count": 52,
   "metadata": {},
   "outputs": [],
   "source": [
    "a=data_set['Facility_Type'].mode()[0]"
   ]
  },
  {
   "cell_type": "code",
   "execution_count": 53,
   "metadata": {},
   "outputs": [
    {
     "data": {
      "text/plain": [
       "'Precinct'"
      ]
     },
     "execution_count": 53,
     "metadata": {},
     "output_type": "execute_result"
    }
   ],
   "source": [
    "a"
   ]
  },
  {
   "cell_type": "code",
   "execution_count": 54,
   "metadata": {},
   "outputs": [],
   "source": [
    "data_set['Facility_Type']=data_set['Facility_Type'].fillna(a)"
   ]
  },
  {
   "cell_type": "code",
   "execution_count": 55,
   "metadata": {},
   "outputs": [
    {
     "data": {
      "text/plain": [
       "0         Precinct\n",
       "1         Precinct\n",
       "2         Precinct\n",
       "3         Precinct\n",
       "4         Precinct\n",
       "            ...   \n",
       "187117    Precinct\n",
       "187118    Precinct\n",
       "187119    Precinct\n",
       "187120    Precinct\n",
       "187121    Precinct\n",
       "Name: Facility_Type, Length: 187122, dtype: object"
      ]
     },
     "execution_count": 55,
     "metadata": {},
     "output_type": "execute_result"
    }
   ],
   "source": [
    "data_set['Facility_Type']"
   ]
  },
  {
   "cell_type": "code",
   "execution_count": 56,
   "metadata": {},
   "outputs": [
    {
     "data": {
      "text/plain": [
       "0         Street/Sidewalk\n",
       "1         Street/Sidewalk\n",
       "2         Street/Sidewalk\n",
       "3         Street/Sidewalk\n",
       "4         Street/Sidewalk\n",
       "               ...       \n",
       "187117                NaN\n",
       "187118                NaN\n",
       "187119                NaN\n",
       "187120                NaN\n",
       "187121                NaN\n",
       "Name: Location_Type, Length: 187122, dtype: object"
      ]
     },
     "execution_count": 56,
     "metadata": {},
     "output_type": "execute_result"
    }
   ],
   "source": [
    "data_set['Location_Type']"
   ]
  },
  {
   "cell_type": "code",
   "execution_count": 57,
   "metadata": {},
   "outputs": [
    {
     "name": "stdout",
     "output_type": "stream",
     "text": [
      "Street/Sidewalk\n"
     ]
    }
   ],
   "source": [
    "b=data_set['Location_Type'].mode()[0]\n",
    "print(b)"
   ]
  },
  {
   "cell_type": "code",
   "execution_count": 58,
   "metadata": {},
   "outputs": [],
   "source": [
    "data_set['Location_Type']=data_set['Location_Type'].fillna(b)"
   ]
  },
  {
   "cell_type": "code",
   "execution_count": 59,
   "metadata": {},
   "outputs": [
    {
     "data": {
      "text/plain": [
       "0         Street/Sidewalk\n",
       "1         Street/Sidewalk\n",
       "2         Street/Sidewalk\n",
       "3         Street/Sidewalk\n",
       "4         Street/Sidewalk\n",
       "               ...       \n",
       "187117    Street/Sidewalk\n",
       "187118    Street/Sidewalk\n",
       "187119    Street/Sidewalk\n",
       "187120    Street/Sidewalk\n",
       "187121    Street/Sidewalk\n",
       "Name: Location_Type, Length: 187122, dtype: object"
      ]
     },
     "execution_count": 59,
     "metadata": {},
     "output_type": "execute_result"
    }
   ],
   "source": [
    "data_set['Location_Type']"
   ]
  },
  {
   "cell_type": "code",
   "execution_count": 60,
   "metadata": {},
   "outputs": [],
   "source": [
    "lbe=LabelEncoder()"
   ]
  },
  {
   "cell_type": "code",
   "execution_count": 61,
   "metadata": {},
   "outputs": [],
   "source": [
    "data_set['Agency']=data_set['Agency'].fillna('Unknown')"
   ]
  },
  {
   "cell_type": "code",
   "execution_count": 62,
   "metadata": {},
   "outputs": [],
   "source": [
    "data_set['Agency']=lbe.fit_transform(data_set['Agency'])"
   ]
  },
  {
   "cell_type": "code",
   "execution_count": 63,
   "metadata": {},
   "outputs": [],
   "source": [
    "ct=data_set['Complaint_Type'].mode()[0]"
   ]
  },
  {
   "cell_type": "code",
   "execution_count": 33,
   "metadata": {},
   "outputs": [
    {
     "data": {
      "text/plain": [
       "'Blocked Driveway'"
      ]
     },
     "execution_count": 33,
     "metadata": {},
     "output_type": "execute_result"
    }
   ],
   "source": [
    "ct"
   ]
  },
  {
   "cell_type": "code",
   "execution_count": 64,
   "metadata": {},
   "outputs": [],
   "source": [
    "data_set['Complaint_Type']=data_set['Complaint_Type'].fillna(ct)"
   ]
  },
  {
   "cell_type": "code",
   "execution_count": 65,
   "metadata": {},
   "outputs": [
    {
     "data": {
      "text/plain": [
       "0         Noise - Street/Sidewalk\n",
       "1                Blocked Driveway\n",
       "2                Blocked Driveway\n",
       "3                 Illegal Parking\n",
       "4                 Illegal Parking\n",
       "                   ...           \n",
       "187117           Blocked Driveway\n",
       "187118           Blocked Driveway\n",
       "187119           Blocked Driveway\n",
       "187120           Blocked Driveway\n",
       "187121           Blocked Driveway\n",
       "Name: Complaint_Type, Length: 187122, dtype: object"
      ]
     },
     "execution_count": 65,
     "metadata": {},
     "output_type": "execute_result"
    }
   ],
   "source": [
    "data_set['Complaint_Type']"
   ]
  },
  {
   "cell_type": "code",
   "execution_count": 66,
   "metadata": {},
   "outputs": [],
   "source": [
    "data_set['Complaint_Type']=lbe.fit_transform(data_set['Complaint_Type'])"
   ]
  },
  {
   "cell_type": "code",
   "execution_count": 67,
   "metadata": {},
   "outputs": [
    {
     "data": {
      "text/plain": [
       "0         14\n",
       "1          2\n",
       "2          2\n",
       "3         10\n",
       "4         10\n",
       "          ..\n",
       "187117     2\n",
       "187118     2\n",
       "187119     2\n",
       "187120     2\n",
       "187121     2\n",
       "Name: Complaint_Type, Length: 187122, dtype: int32"
      ]
     },
     "execution_count": 67,
     "metadata": {},
     "output_type": "execute_result"
    }
   ],
   "source": [
    "data_set['Complaint_Type']"
   ]
  },
  {
   "cell_type": "code",
   "execution_count": 68,
   "metadata": {},
   "outputs": [],
   "source": [
    "data_set['Location_Type']=lbe.fit_transform(data_set['Location_Type'])"
   ]
  },
  {
   "cell_type": "code",
   "execution_count": 69,
   "metadata": {},
   "outputs": [
    {
     "data": {
      "text/plain": [
       "0         11\n",
       "1         11\n",
       "2         11\n",
       "3         11\n",
       "4         11\n",
       "          ..\n",
       "187117    11\n",
       "187118    11\n",
       "187119    11\n",
       "187120    11\n",
       "187121    11\n",
       "Name: Location_Type, Length: 187122, dtype: int32"
      ]
     },
     "execution_count": 69,
     "metadata": {},
     "output_type": "execute_result"
    }
   ],
   "source": [
    "data_set['Location_Type']"
   ]
  },
  {
   "cell_type": "code",
   "execution_count": 70,
   "metadata": {},
   "outputs": [],
   "source": [
    "data_set['City']=lbe.fit_transform(data_set['City'])"
   ]
  },
  {
   "cell_type": "code",
   "execution_count": 71,
   "metadata": {},
   "outputs": [
    {
     "data": {
      "text/plain": [
       "0         31\n",
       "1          1\n",
       "2          6\n",
       "3          6\n",
       "4         13\n",
       "          ..\n",
       "187117    46\n",
       "187118    46\n",
       "187119    46\n",
       "187120    46\n",
       "187121    46\n",
       "Name: City, Length: 187122, dtype: int32"
      ]
     },
     "execution_count": 71,
     "metadata": {},
     "output_type": "execute_result"
    }
   ],
   "source": [
    "data_set['City']"
   ]
  },
  {
   "cell_type": "code",
   "execution_count": 72,
   "metadata": {},
   "outputs": [],
   "source": [
    "data_set['Facility_Type']=lbe.fit_transform(data_set['Facility_Type'])"
   ]
  },
  {
   "cell_type": "code",
   "execution_count": 74,
   "metadata": {},
   "outputs": [],
   "source": [
    "br=data_set['Borough'].mode()[0]"
   ]
  },
  {
   "cell_type": "code",
   "execution_count": 75,
   "metadata": {},
   "outputs": [
    {
     "data": {
      "text/plain": [
       "'BROOKLYN'"
      ]
     },
     "execution_count": 75,
     "metadata": {},
     "output_type": "execute_result"
    }
   ],
   "source": [
    "br"
   ]
  },
  {
   "cell_type": "code",
   "execution_count": 76,
   "metadata": {},
   "outputs": [],
   "source": [
    "data_set['Borough']=data_set['Borough'].fillna(br)"
   ]
  },
  {
   "cell_type": "code",
   "execution_count": 77,
   "metadata": {},
   "outputs": [],
   "source": [
    "data_set['Borough']=lbe.fit_transform(data_set['Borough'])"
   ]
  },
  {
   "cell_type": "code",
   "execution_count": 78,
   "metadata": {},
   "outputs": [],
   "source": [
    "pbr=data_set['Park_Borough'].mode()[0]"
   ]
  },
  {
   "cell_type": "code",
   "execution_count": 79,
   "metadata": {},
   "outputs": [
    {
     "data": {
      "text/plain": [
       "'BROOKLYN'"
      ]
     },
     "execution_count": 79,
     "metadata": {},
     "output_type": "execute_result"
    }
   ],
   "source": [
    "pbr"
   ]
  },
  {
   "cell_type": "code",
   "execution_count": 81,
   "metadata": {},
   "outputs": [],
   "source": [
    "data_set['Park_Borough']=data_set['Park_Borough'].fillna(pbr)"
   ]
  },
  {
   "cell_type": "code",
   "execution_count": 83,
   "metadata": {},
   "outputs": [],
   "source": [
    "sts=data_set['Status'].mode()[0]"
   ]
  },
  {
   "cell_type": "code",
   "execution_count": 84,
   "metadata": {},
   "outputs": [
    {
     "data": {
      "text/plain": [
       "'Closed'"
      ]
     },
     "execution_count": 84,
     "metadata": {},
     "output_type": "execute_result"
    }
   ],
   "source": [
    "sts\n"
   ]
  },
  {
   "cell_type": "code",
   "execution_count": 85,
   "metadata": {},
   "outputs": [],
   "source": [
    "data_set['Status']=data_set['Status'].fillna(sts)"
   ]
  },
  {
   "cell_type": "code",
   "execution_count": 86,
   "metadata": {},
   "outputs": [],
   "source": [
    "data_set['Park_Borough']=lbe.fit_transform(data_set['Park_Borough'])\n",
    "data_set['Status']=lbe.fit_transform(data_set['Status'])\n"
   ]
  },
  {
   "cell_type": "code",
   "execution_count": 87,
   "metadata": {},
   "outputs": [
    {
     "name": "stdout",
     "output_type": "stream",
     "text": [
      "              Agency  Complaint_Type  Location_Type           City  \\\n",
      "count  187122.000000   187122.000000  187122.000000  187122.000000   \n",
      "mean        0.880837        2.786722      10.913196      42.754369   \n",
      "std         0.323981        2.806810       0.852035      10.072933   \n",
      "min         0.000000        0.000000       0.000000       0.000000   \n",
      "25%         1.000000        2.000000      11.000000      46.000000   \n",
      "50%         1.000000        2.000000      11.000000      46.000000   \n",
      "75%         1.000000        2.000000      11.000000      46.000000   \n",
      "max         1.000000       20.000000      14.000000      50.000000   \n",
      "\n",
      "       Facility_Type         Status        Borough   Park_Borough  \n",
      "count       187122.0  187122.000000  187122.000000  187122.000000  \n",
      "mean             0.0       0.999893       1.092164       1.092164  \n",
      "std              0.0       0.037276       0.484333       0.484333  \n",
      "min              0.0       0.000000       0.000000       0.000000  \n",
      "25%              0.0       1.000000       1.000000       1.000000  \n",
      "50%              0.0       1.000000       1.000000       1.000000  \n",
      "75%              0.0       1.000000       1.000000       1.000000  \n",
      "max              0.0       2.000000       5.000000       5.000000  \n"
     ]
    }
   ],
   "source": [
    "print(data_set.describe())"
   ]
  },
  {
   "cell_type": "code",
   "execution_count": 88,
   "metadata": {},
   "outputs": [
    {
     "name": "stdout",
     "output_type": "stream",
     "text": [
      "Created_Date                  object\n",
      "Closed_Date                   object\n",
      "Agency                         int32\n",
      "Complaint_Type                 int32\n",
      "Location_Type                  int32\n",
      "City                           int32\n",
      "Facility_Type                  int32\n",
      "Status                         int32\n",
      "Due_Date                      object\n",
      "Resolution_Action_Upd_Date    object\n",
      "Borough                        int32\n",
      "Park_Borough                   int32\n",
      "dtype: object\n"
     ]
    }
   ],
   "source": [
    "print(data_set.dtypes)"
   ]
  },
  {
   "cell_type": "code",
   "execution_count": null,
   "metadata": {},
   "outputs": [],
   "source": [
    "data_set.drop(['Created_Date','Closed_Date','Due_Date','Resolution_Action_Upd_Date','Agency'],axis=1,inplace = True)"
   ]
  },
  {
   "cell_type": "code",
   "execution_count": 95,
   "metadata": {},
   "outputs": [
    {
     "data": {
      "text/html": [
       "<div>\n",
       "<style scoped>\n",
       "    .dataframe tbody tr th:only-of-type {\n",
       "        vertical-align: middle;\n",
       "    }\n",
       "\n",
       "    .dataframe tbody tr th {\n",
       "        vertical-align: top;\n",
       "    }\n",
       "\n",
       "    .dataframe thead th {\n",
       "        text-align: right;\n",
       "    }\n",
       "</style>\n",
       "<table border=\"1\" class=\"dataframe\">\n",
       "  <thead>\n",
       "    <tr style=\"text-align: right;\">\n",
       "      <th></th>\n",
       "      <th>Complaint_Type</th>\n",
       "      <th>Location_Type</th>\n",
       "      <th>City</th>\n",
       "      <th>Facility_Type</th>\n",
       "      <th>Status</th>\n",
       "      <th>Borough</th>\n",
       "      <th>Park_Borough</th>\n",
       "    </tr>\n",
       "  </thead>\n",
       "  <tbody>\n",
       "    <tr>\n",
       "      <th>0</th>\n",
       "      <td>14</td>\n",
       "      <td>11</td>\n",
       "      <td>31</td>\n",
       "      <td>0</td>\n",
       "      <td>1</td>\n",
       "      <td>2</td>\n",
       "      <td>2</td>\n",
       "    </tr>\n",
       "    <tr>\n",
       "      <th>1</th>\n",
       "      <td>2</td>\n",
       "      <td>11</td>\n",
       "      <td>1</td>\n",
       "      <td>0</td>\n",
       "      <td>1</td>\n",
       "      <td>3</td>\n",
       "      <td>3</td>\n",
       "    </tr>\n",
       "    <tr>\n",
       "      <th>2</th>\n",
       "      <td>2</td>\n",
       "      <td>11</td>\n",
       "      <td>6</td>\n",
       "      <td>0</td>\n",
       "      <td>1</td>\n",
       "      <td>0</td>\n",
       "      <td>0</td>\n",
       "    </tr>\n",
       "    <tr>\n",
       "      <th>3</th>\n",
       "      <td>10</td>\n",
       "      <td>11</td>\n",
       "      <td>6</td>\n",
       "      <td>0</td>\n",
       "      <td>1</td>\n",
       "      <td>0</td>\n",
       "      <td>0</td>\n",
       "    </tr>\n",
       "    <tr>\n",
       "      <th>4</th>\n",
       "      <td>10</td>\n",
       "      <td>11</td>\n",
       "      <td>13</td>\n",
       "      <td>0</td>\n",
       "      <td>1</td>\n",
       "      <td>3</td>\n",
       "      <td>3</td>\n",
       "    </tr>\n",
       "    <tr>\n",
       "      <th>...</th>\n",
       "      <td>...</td>\n",
       "      <td>...</td>\n",
       "      <td>...</td>\n",
       "      <td>...</td>\n",
       "      <td>...</td>\n",
       "      <td>...</td>\n",
       "      <td>...</td>\n",
       "    </tr>\n",
       "    <tr>\n",
       "      <th>187117</th>\n",
       "      <td>2</td>\n",
       "      <td>11</td>\n",
       "      <td>46</td>\n",
       "      <td>0</td>\n",
       "      <td>1</td>\n",
       "      <td>1</td>\n",
       "      <td>1</td>\n",
       "    </tr>\n",
       "    <tr>\n",
       "      <th>187118</th>\n",
       "      <td>2</td>\n",
       "      <td>11</td>\n",
       "      <td>46</td>\n",
       "      <td>0</td>\n",
       "      <td>1</td>\n",
       "      <td>1</td>\n",
       "      <td>1</td>\n",
       "    </tr>\n",
       "    <tr>\n",
       "      <th>187119</th>\n",
       "      <td>2</td>\n",
       "      <td>11</td>\n",
       "      <td>46</td>\n",
       "      <td>0</td>\n",
       "      <td>1</td>\n",
       "      <td>1</td>\n",
       "      <td>1</td>\n",
       "    </tr>\n",
       "    <tr>\n",
       "      <th>187120</th>\n",
       "      <td>2</td>\n",
       "      <td>11</td>\n",
       "      <td>46</td>\n",
       "      <td>0</td>\n",
       "      <td>1</td>\n",
       "      <td>1</td>\n",
       "      <td>1</td>\n",
       "    </tr>\n",
       "    <tr>\n",
       "      <th>187121</th>\n",
       "      <td>2</td>\n",
       "      <td>11</td>\n",
       "      <td>46</td>\n",
       "      <td>0</td>\n",
       "      <td>1</td>\n",
       "      <td>1</td>\n",
       "      <td>1</td>\n",
       "    </tr>\n",
       "  </tbody>\n",
       "</table>\n",
       "<p>187122 rows × 7 columns</p>\n",
       "</div>"
      ],
      "text/plain": [
       "        Complaint_Type  Location_Type  City  Facility_Type  Status  Borough  \\\n",
       "0                   14             11    31              0       1        2   \n",
       "1                    2             11     1              0       1        3   \n",
       "2                    2             11     6              0       1        0   \n",
       "3                   10             11     6              0       1        0   \n",
       "4                   10             11    13              0       1        3   \n",
       "...                ...            ...   ...            ...     ...      ...   \n",
       "187117               2             11    46              0       1        1   \n",
       "187118               2             11    46              0       1        1   \n",
       "187119               2             11    46              0       1        1   \n",
       "187120               2             11    46              0       1        1   \n",
       "187121               2             11    46              0       1        1   \n",
       "\n",
       "        Park_Borough  \n",
       "0                  2  \n",
       "1                  3  \n",
       "2                  0  \n",
       "3                  0  \n",
       "4                  3  \n",
       "...              ...  \n",
       "187117             1  \n",
       "187118             1  \n",
       "187119             1  \n",
       "187120             1  \n",
       "187121             1  \n",
       "\n",
       "[187122 rows x 7 columns]"
      ]
     },
     "execution_count": 95,
     "metadata": {},
     "output_type": "execute_result"
    }
   ],
   "source": [
    "data_set"
   ]
  },
  {
   "cell_type": "code",
   "execution_count": 97,
   "metadata": {},
   "outputs": [],
   "source": [
    "x=data_set.iloc[:,0:5]"
   ]
  },
  {
   "cell_type": "code",
   "execution_count": 98,
   "metadata": {},
   "outputs": [
    {
     "data": {
      "text/html": [
       "<div>\n",
       "<style scoped>\n",
       "    .dataframe tbody tr th:only-of-type {\n",
       "        vertical-align: middle;\n",
       "    }\n",
       "\n",
       "    .dataframe tbody tr th {\n",
       "        vertical-align: top;\n",
       "    }\n",
       "\n",
       "    .dataframe thead th {\n",
       "        text-align: right;\n",
       "    }\n",
       "</style>\n",
       "<table border=\"1\" class=\"dataframe\">\n",
       "  <thead>\n",
       "    <tr style=\"text-align: right;\">\n",
       "      <th></th>\n",
       "      <th>Complaint_Type</th>\n",
       "      <th>Location_Type</th>\n",
       "      <th>City</th>\n",
       "      <th>Facility_Type</th>\n",
       "      <th>Status</th>\n",
       "    </tr>\n",
       "  </thead>\n",
       "  <tbody>\n",
       "    <tr>\n",
       "      <th>0</th>\n",
       "      <td>14</td>\n",
       "      <td>11</td>\n",
       "      <td>31</td>\n",
       "      <td>0</td>\n",
       "      <td>1</td>\n",
       "    </tr>\n",
       "    <tr>\n",
       "      <th>1</th>\n",
       "      <td>2</td>\n",
       "      <td>11</td>\n",
       "      <td>1</td>\n",
       "      <td>0</td>\n",
       "      <td>1</td>\n",
       "    </tr>\n",
       "    <tr>\n",
       "      <th>2</th>\n",
       "      <td>2</td>\n",
       "      <td>11</td>\n",
       "      <td>6</td>\n",
       "      <td>0</td>\n",
       "      <td>1</td>\n",
       "    </tr>\n",
       "    <tr>\n",
       "      <th>3</th>\n",
       "      <td>10</td>\n",
       "      <td>11</td>\n",
       "      <td>6</td>\n",
       "      <td>0</td>\n",
       "      <td>1</td>\n",
       "    </tr>\n",
       "    <tr>\n",
       "      <th>4</th>\n",
       "      <td>10</td>\n",
       "      <td>11</td>\n",
       "      <td>13</td>\n",
       "      <td>0</td>\n",
       "      <td>1</td>\n",
       "    </tr>\n",
       "    <tr>\n",
       "      <th>...</th>\n",
       "      <td>...</td>\n",
       "      <td>...</td>\n",
       "      <td>...</td>\n",
       "      <td>...</td>\n",
       "      <td>...</td>\n",
       "    </tr>\n",
       "    <tr>\n",
       "      <th>187117</th>\n",
       "      <td>2</td>\n",
       "      <td>11</td>\n",
       "      <td>46</td>\n",
       "      <td>0</td>\n",
       "      <td>1</td>\n",
       "    </tr>\n",
       "    <tr>\n",
       "      <th>187118</th>\n",
       "      <td>2</td>\n",
       "      <td>11</td>\n",
       "      <td>46</td>\n",
       "      <td>0</td>\n",
       "      <td>1</td>\n",
       "    </tr>\n",
       "    <tr>\n",
       "      <th>187119</th>\n",
       "      <td>2</td>\n",
       "      <td>11</td>\n",
       "      <td>46</td>\n",
       "      <td>0</td>\n",
       "      <td>1</td>\n",
       "    </tr>\n",
       "    <tr>\n",
       "      <th>187120</th>\n",
       "      <td>2</td>\n",
       "      <td>11</td>\n",
       "      <td>46</td>\n",
       "      <td>0</td>\n",
       "      <td>1</td>\n",
       "    </tr>\n",
       "    <tr>\n",
       "      <th>187121</th>\n",
       "      <td>2</td>\n",
       "      <td>11</td>\n",
       "      <td>46</td>\n",
       "      <td>0</td>\n",
       "      <td>1</td>\n",
       "    </tr>\n",
       "  </tbody>\n",
       "</table>\n",
       "<p>187122 rows × 5 columns</p>\n",
       "</div>"
      ],
      "text/plain": [
       "        Complaint_Type  Location_Type  City  Facility_Type  Status\n",
       "0                   14             11    31              0       1\n",
       "1                    2             11     1              0       1\n",
       "2                    2             11     6              0       1\n",
       "3                   10             11     6              0       1\n",
       "4                   10             11    13              0       1\n",
       "...                ...            ...   ...            ...     ...\n",
       "187117               2             11    46              0       1\n",
       "187118               2             11    46              0       1\n",
       "187119               2             11    46              0       1\n",
       "187120               2             11    46              0       1\n",
       "187121               2             11    46              0       1\n",
       "\n",
       "[187122 rows x 5 columns]"
      ]
     },
     "execution_count": 98,
     "metadata": {},
     "output_type": "execute_result"
    }
   ],
   "source": [
    "x"
   ]
  },
  {
   "cell_type": "code",
   "execution_count": 99,
   "metadata": {},
   "outputs": [],
   "source": [
    "y=data_set.iloc[:,6]"
   ]
  },
  {
   "cell_type": "code",
   "execution_count": 100,
   "metadata": {},
   "outputs": [
    {
     "data": {
      "text/plain": [
       "0         2\n",
       "1         3\n",
       "2         0\n",
       "3         0\n",
       "4         3\n",
       "         ..\n",
       "187117    1\n",
       "187118    1\n",
       "187119    1\n",
       "187120    1\n",
       "187121    1\n",
       "Name: Park_Borough, Length: 187122, dtype: int32"
      ]
     },
     "execution_count": 100,
     "metadata": {},
     "output_type": "execute_result"
    }
   ],
   "source": [
    "y"
   ]
  },
  {
   "cell_type": "code",
   "execution_count": 101,
   "metadata": {},
   "outputs": [
    {
     "name": "stdout",
     "output_type": "stream",
     "text": [
      "0\n"
     ]
    }
   ],
   "source": [
    "print(y.isnull().sum())"
   ]
  },
  {
   "cell_type": "code",
   "execution_count": 102,
   "metadata": {},
   "outputs": [],
   "source": [
    "X_train,X_test,y_train,y_test = model_selection.train_test_split(x,y,test_size=0.3,random_state=42)"
   ]
  },
  {
   "cell_type": "code",
   "execution_count": 103,
   "metadata": {},
   "outputs": [
    {
     "name": "stdout",
     "output_type": "stream",
     "text": [
      "(130985, 5)\n"
     ]
    }
   ],
   "source": [
    "print(X_train.shape)"
   ]
  },
  {
   "cell_type": "code",
   "execution_count": 104,
   "metadata": {},
   "outputs": [
    {
     "name": "stdout",
     "output_type": "stream",
     "text": [
      "(130985,)\n"
     ]
    }
   ],
   "source": [
    "print(y_train.shape)"
   ]
  },
  {
   "cell_type": "code",
   "execution_count": 105,
   "metadata": {},
   "outputs": [
    {
     "name": "stdout",
     "output_type": "stream",
     "text": [
      "(56137, 5)\n"
     ]
    }
   ],
   "source": [
    "print(X_test.shape)"
   ]
  },
  {
   "cell_type": "code",
   "execution_count": 106,
   "metadata": {},
   "outputs": [
    {
     "name": "stdout",
     "output_type": "stream",
     "text": [
      "(56137,)\n"
     ]
    }
   ],
   "source": [
    "print(y_test.shape)"
   ]
  },
  {
   "cell_type": "code",
   "execution_count": 107,
   "metadata": {},
   "outputs": [],
   "source": [
    "ss= StandardScaler()\n",
    "XX_train=ss.fit_transform(X_train)\n",
    "XX_test=ss.fit_transform(X_test)"
   ]
  },
  {
   "cell_type": "code",
   "execution_count": 108,
   "metadata": {},
   "outputs": [
    {
     "name": "stdout",
     "output_type": "stream",
     "text": [
      "187122\n"
     ]
    }
   ],
   "source": [
    "print(len(y))"
   ]
  },
  {
   "cell_type": "code",
   "execution_count": 110,
   "metadata": {},
   "outputs": [
    {
     "name": "stdout",
     "output_type": "stream",
     "text": [
      "236.93247983339052\n"
     ]
    }
   ],
   "source": [
    "print(math.sqrt(len(y_test)) )"
   ]
  },
  {
   "cell_type": "code",
   "execution_count": 111,
   "metadata": {},
   "outputs": [
    {
     "data": {
      "text/plain": [
       "KNeighborsClassifier(algorithm='auto', leaf_size=30, metric='minkowski',\n",
       "                     metric_params=None, n_jobs=None, n_neighbors=20, p=2,\n",
       "                     weights='uniform')"
      ]
     },
     "execution_count": 111,
     "metadata": {},
     "output_type": "execute_result"
    }
   ],
   "source": [
    "category= KNeighborsClassifier(n_neighbors=20)\n",
    "category.fit(XX_train,y_train)"
   ]
  },
  {
   "cell_type": "code",
   "execution_count": 113,
   "metadata": {},
   "outputs": [
    {
     "name": "stdout",
     "output_type": "stream",
     "text": [
      "[1 1 1 ... 1 1 1]\n"
     ]
    }
   ],
   "source": [
    "y_predict=category.predict(XX_test)\n",
    "print(y_predict)"
   ]
  },
  {
   "cell_type": "code",
   "execution_count": 115,
   "metadata": {},
   "outputs": [
    {
     "data": {
      "text/plain": [
       "0.9978979995368473"
      ]
     },
     "execution_count": 115,
     "metadata": {},
     "output_type": "execute_result"
    }
   ],
   "source": [
    "accuracy_score(y_test,y_predict)"
   ]
  },
  {
   "cell_type": "code",
   "execution_count": null,
   "metadata": {},
   "outputs": [],
   "source": []
  }
 ],
 "metadata": {
  "kernelspec": {
   "display_name": "Python 3",
   "language": "python",
   "name": "python3"
  },
  "language_info": {
   "codemirror_mode": {
    "name": "ipython",
    "version": 3
   },
   "file_extension": ".py",
   "mimetype": "text/x-python",
   "name": "python",
   "nbconvert_exporter": "python",
   "pygments_lexer": "ipython3",
   "version": "3.7.3"
  },
  "pycharm": {
   "stem_cell": {
    "cell_type": "raw",
    "source": [],
    "metadata": {
     "collapsed": false
    }
   }
  }
 },
 "nbformat": 4,
 "nbformat_minor": 2
}