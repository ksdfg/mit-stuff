{
 "cells": [
  {
   "cell_type": "code",
   "execution_count": 3,
   "metadata": {
    "pycharm": {
     "is_executing": false
    }
   },
   "outputs": [
    {
     "name": "stdout",
     "text": [
      "/stuff/mit-stuff/dwdm\n",
      "            Created_Date    Closed_Date Agency           Complaint_Type  \\\n",
      "0       12/31/2015 23:59  1/1/2016 0:55   NYPD  Noise - Street/Sidewalk   \n",
      "1       12/31/2015 23:59  1/1/2016 1:26   NYPD         Blocked Driveway   \n",
      "2       12/31/2015 23:59  1/1/2016 4:51   NYPD         Blocked Driveway   \n",
      "3       12/31/2015 23:57  1/1/2016 7:43   NYPD          Illegal Parking   \n",
      "4       12/31/2015 23:56  1/1/2016 3:24   NYPD          Illegal Parking   \n",
      "...                  ...            ...    ...                      ...   \n",
      "187117               NaN            NaN    NaN                      NaN   \n",
      "187118               NaN            NaN    NaN                      NaN   \n",
      "187119               NaN            NaN    NaN                      NaN   \n",
      "187120               NaN            NaN    NaN                      NaN   \n",
      "187121               NaN            NaN    NaN                      NaN   \n",
      "\n",
      "          Location_Type      City Facility_Type  Status       Due_Date  \\\n",
      "0       Street/Sidewalk  NEW YORK      Precinct  Closed  1/1/2016 7:59   \n",
      "1       Street/Sidewalk   ASTORIA      Precinct  Closed  1/1/2016 7:59   \n",
      "2       Street/Sidewalk     BRONX      Precinct  Closed  1/1/2016 7:59   \n",
      "3       Street/Sidewalk     BRONX      Precinct  Closed  1/1/2016 7:57   \n",
      "4       Street/Sidewalk  ELMHURST      Precinct  Closed  1/1/2016 7:56   \n",
      "...                 ...       ...           ...     ...            ...   \n",
      "187117              NaN       NaN           NaN     NaN            NaN   \n",
      "187118              NaN       NaN           NaN     NaN            NaN   \n",
      "187119              NaN       NaN           NaN     NaN            NaN   \n",
      "187120              NaN       NaN           NaN     NaN            NaN   \n",
      "187121              NaN       NaN           NaN     NaN            NaN   \n",
      "\n",
      "       Resolution_Action_Upd_Date    Borough Park_Borough  \n",
      "0                   1/1/2016 0:55  MANHATTAN    MANHATTAN  \n",
      "1                   1/1/2016 1:26     QUEENS       QUEENS  \n",
      "2                   1/1/2016 4:51      BRONX        BRONX  \n",
      "3                   1/1/2016 7:43      BRONX        BRONX  \n",
      "4                   1/1/2016 3:24     QUEENS       QUEENS  \n",
      "...                           ...        ...          ...  \n",
      "187117                        NaN        NaN          NaN  \n",
      "187118                        NaN        NaN          NaN  \n",
      "187119                        NaN        NaN          NaN  \n",
      "187120                        NaN        NaN          NaN  \n",
      "187121                        NaN        NaN          NaN  \n",
      "\n",
      "[187122 rows x 12 columns]\n"
     ],
     "output_type": "stream"
    }
   ],
   "source": [
    "import math\n",
    "import os\n",
    "\n",
    "import matplotlib.pyplot as plt\n",
    "import pandas as pd\n",
    "from sklearn import model_selection\n",
    "from sklearn.metrics import accuracy_score\n",
    "from sklearn.neighbors import KNeighborsClassifier\n",
    "from sklearn.preprocessing import LabelEncoder\n",
    "from sklearn.preprocessing import StandardScaler\n",
    "\n",
    "print(os.getcwd())\n",
    "f_read=pd.read_csv(\"311_Service_Requests_from_2010_to_Present.csv\",sep=',', error_bad_lines=False, index_col=False, dtype='unicode')\n",
    "data_set=f_read.loc[:,['Created Date', 'Closed Date', 'Agency', 'Complaint Type','Location Type','City',\n",
    "                 'Facility Type','Status', 'Due Date','Resolution Action Updated Date','Borough','Park Borough']]\n",
    "#print(data_set)\n",
    "\n",
    "data_set.columns=['Created_Date', 'Closed_Date', 'Agency', 'Complaint_Type','Location_Type','City',\n",
    "                 'Facility_Type','Status', 'Due_Date','Resolution_Action_Upd_Date','Borough','Park_Borough']\n",
    "print(data_set)\n",
    "#print(data_set.isnull().sum())\n",
    "\n"
   ]
  },
  {
   "cell_type": "code",
   "execution_count": 4,
   "metadata": {
    "pycharm": {
     "is_executing": false
    }
   },
   "outputs": [
    {
     "name": "stdout",
     "text": [
      "City      Complaint_Type         \n",
      "ARVERNE   Animal Abuse                3\n",
      "          Derelict Vehicle            1\n",
      "          Illegal Parking             6\n",
      "          Noise - Commercial          1\n",
      "          Noise - Street/Sidewalk     2\n",
      "                                     ..\n",
      "WOODSIDE  Noise - Street/Sidewalk    18\n",
      "          Noise - Vehicle            12\n",
      "          Traffic                     1\n",
      "          Vending                     2\n",
      "Woodside  Illegal Parking             1\n",
      "Length: 445, dtype: int64\n"
     ],
     "output_type": "stream"
    }
   ],
   "source": [
    "city_complaint_type=data_set.groupby(['City','Complaint_Type'])\n",
    "print(city_complaint_type.size())"
   ]
  },
  {
   "cell_type": "code",
   "execution_count": 5,
   "metadata": {
    "pycharm": {
     "is_executing": false
    }
   },
   "outputs": [
    {
     "name": "stdout",
     "text": [
      "['Noise - Street/Sidewalk' 'Blocked Driveway' 'Illegal Parking'\n",
      " 'Derelict Vehicle' 'Noise - Commercial' 'Noise - House of Worship'\n",
      " 'Posting Advertisement' 'Noise - Vehicle' 'Animal Abuse' 'Vending'\n",
      " 'Traffic' 'Drinking' 'Bike/Roller/Skate Chronic' 'Panhandling'\n",
      " 'Noise - Park' 'Homeless Encampment' 'Urinating in Public' 'Graffiti'\n",
      " 'Disorderly Youth' 'Illegal Fireworks' 'Ferry Complaint' nan]\n"
     ],
     "output_type": "stream"
    }
   ],
   "source": [
    "print(data_set['Complaint_Type'].unique())"
   ]
  },
  {
   "cell_type": "code",
   "execution_count": 6,
   "metadata": {
    "pycharm": {
     "is_executing": false
    }
   },
   "outputs": [],
   "source": [
    "complaint_type = data_set.groupby('Complaint_Type')"
   ]
  },
  {
   "cell_type": "code",
   "execution_count": 7,
   "metadata": {
    "pycharm": {
     "is_executing": false
    }
   },
   "outputs": [],
   "source": [
    "complaint_analysis=complaint_type.size()"
   ]
  },
  {
   "cell_type": "code",
   "execution_count": 8,
   "metadata": {
    "pycharm": {
     "is_executing": false
    }
   },
   "outputs": [
    {
     "name": "stdout",
     "text": [
      "Complaint_Type\n",
      "Animal Abuse                  616\n",
      "Bike/Roller/Skate Chronic      35\n",
      "Blocked Driveway             5755\n",
      "Derelict Vehicle             1335\n",
      "Disorderly Youth               19\n",
      "Drinking                      111\n",
      "Ferry Complaint                 1\n",
      "Graffiti                        5\n",
      "Homeless Encampment           357\n",
      "Illegal Fireworks               5\n",
      "Illegal Parking              5552\n",
      "Noise - Commercial           2024\n",
      "Noise - House of Worship       85\n",
      "Noise - Park                  351\n",
      "Noise - Street/Sidewalk      4083\n",
      "Noise - Vehicle              1279\n",
      "Panhandling                    26\n",
      "Posting Advertisement          48\n",
      "Traffic                       218\n",
      "Urinating in Public            44\n",
      "Vending                       349\n",
      "dtype: int64\n"
     ],
     "output_type": "stream"
    }
   ],
   "source": [
    "print(complaint_type.size())"
   ]
  },
  {
   "cell_type": "code",
   "execution_count": 9,
   "metadata": {
    "pycharm": {
     "is_executing": false
    }
   },
   "outputs": [],
   "source": [
    "df=complaint_analysis.to_frame().reset_index()"
   ]
  },
  {
   "cell_type": "code",
   "execution_count": 10,
   "metadata": {
    "pycharm": {
     "is_executing": false
    }
   },
   "outputs": [
    {
     "data": {
      "text/plain": "               Complaint_Type  FREQ\n0                Animal Abuse   616\n1   Bike/Roller/Skate Chronic    35\n2            Blocked Driveway  5755\n3            Derelict Vehicle  1335\n4            Disorderly Youth    19\n5                    Drinking   111\n6             Ferry Complaint     1\n7                    Graffiti     5\n8         Homeless Encampment   357\n9           Illegal Fireworks     5\n10            Illegal Parking  5552\n11         Noise - Commercial  2024\n12   Noise - House of Worship    85\n13               Noise - Park   351\n14    Noise - Street/Sidewalk  4083\n15            Noise - Vehicle  1279\n16                Panhandling    26\n17      Posting Advertisement    48\n18                    Traffic   218\n19        Urinating in Public    44\n20                    Vending   349",
      "text/html": "<div>\n<style scoped>\n    .dataframe tbody tr th:only-of-type {\n        vertical-align: middle;\n    }\n\n    .dataframe tbody tr th {\n        vertical-align: top;\n    }\n\n    .dataframe thead th {\n        text-align: right;\n    }\n</style>\n<table border=\"1\" class=\"dataframe\">\n  <thead>\n    <tr style=\"text-align: right;\">\n      <th></th>\n      <th>Complaint_Type</th>\n      <th>FREQ</th>\n    </tr>\n  </thead>\n  <tbody>\n    <tr>\n      <th>0</th>\n      <td>Animal Abuse</td>\n      <td>616</td>\n    </tr>\n    <tr>\n      <th>1</th>\n      <td>Bike/Roller/Skate Chronic</td>\n      <td>35</td>\n    </tr>\n    <tr>\n      <th>2</th>\n      <td>Blocked Driveway</td>\n      <td>5755</td>\n    </tr>\n    <tr>\n      <th>3</th>\n      <td>Derelict Vehicle</td>\n      <td>1335</td>\n    </tr>\n    <tr>\n      <th>4</th>\n      <td>Disorderly Youth</td>\n      <td>19</td>\n    </tr>\n    <tr>\n      <th>5</th>\n      <td>Drinking</td>\n      <td>111</td>\n    </tr>\n    <tr>\n      <th>6</th>\n      <td>Ferry Complaint</td>\n      <td>1</td>\n    </tr>\n    <tr>\n      <th>7</th>\n      <td>Graffiti</td>\n      <td>5</td>\n    </tr>\n    <tr>\n      <th>8</th>\n      <td>Homeless Encampment</td>\n      <td>357</td>\n    </tr>\n    <tr>\n      <th>9</th>\n      <td>Illegal Fireworks</td>\n      <td>5</td>\n    </tr>\n    <tr>\n      <th>10</th>\n      <td>Illegal Parking</td>\n      <td>5552</td>\n    </tr>\n    <tr>\n      <th>11</th>\n      <td>Noise - Commercial</td>\n      <td>2024</td>\n    </tr>\n    <tr>\n      <th>12</th>\n      <td>Noise - House of Worship</td>\n      <td>85</td>\n    </tr>\n    <tr>\n      <th>13</th>\n      <td>Noise - Park</td>\n      <td>351</td>\n    </tr>\n    <tr>\n      <th>14</th>\n      <td>Noise - Street/Sidewalk</td>\n      <td>4083</td>\n    </tr>\n    <tr>\n      <th>15</th>\n      <td>Noise - Vehicle</td>\n      <td>1279</td>\n    </tr>\n    <tr>\n      <th>16</th>\n      <td>Panhandling</td>\n      <td>26</td>\n    </tr>\n    <tr>\n      <th>17</th>\n      <td>Posting Advertisement</td>\n      <td>48</td>\n    </tr>\n    <tr>\n      <th>18</th>\n      <td>Traffic</td>\n      <td>218</td>\n    </tr>\n    <tr>\n      <th>19</th>\n      <td>Urinating in Public</td>\n      <td>44</td>\n    </tr>\n    <tr>\n      <th>20</th>\n      <td>Vending</td>\n      <td>349</td>\n    </tr>\n  </tbody>\n</table>\n</div>"
     },
     "metadata": {},
     "output_type": "execute_result",
     "execution_count": 10
    }
   ],
   "source": [
    "df.columns=['Complaint_Type','FREQ']\n",
    "df"
   ]
  },
  {
   "cell_type": "code",
   "execution_count": 11,
   "metadata": {
    "pycharm": {
     "is_executing": false
    }
   },
   "outputs": [],
   "source": [
    "sort_1=df.sort_values('FREQ',ascending=False)"
   ]
  },
  {
   "cell_type": "code",
   "execution_count": 12,
   "metadata": {
    "pycharm": {
     "is_executing": false
    }
   },
   "outputs": [
    {
     "data": {
      "text/plain": "<Figure size 432x288 with 1 Axes>",
      "image/png": "[encoded data removed]"
     },
     "metadata": {
      "needs_background": "light"
     },
     "output_type": "display_data"
    }
   ],
   "source": [
    "top10=sort_1.head(10)\n",
    "x=range(10)\n",
    "plt.bar(top10.Complaint_Type, top10.FREQ)\n",
    "plt.xticks(x, top10.Complaint_Type, rotation='vertical')\n",
    "plt.legend(['complaint'])\n",
    "plt.show()\n"
   ]
  },
  {
   "cell_type": "code",
   "execution_count": 13,
   "metadata": {
    "pycharm": {
     "is_executing": false
    }
   },
   "outputs": [
    {
     "name": "stdout",
     "text": [
      "Created_Date                  164824\n",
      "Closed_Date                   165084\n",
      "Agency                        164824\n",
      "Complaint_Type                164824\n",
      "Location_Type                 164824\n",
      "City                          165107\n",
      "Facility_Type                 165084\n",
      "Status                        164824\n",
      "Due_Date                      164825\n",
      "Resolution_Action_Upd_Date    165081\n",
      "Borough                       164824\n",
      "Park_Borough                  164824\n",
      "dtype: int64\n"
     ],
     "output_type": "stream"
    }
   ],
   "source": [
    "print(data_set.isnull().sum())"
   ]
  },
  {
   "cell_type": "code",
   "execution_count": 14,
   "metadata": {
    "pycharm": {
     "is_executing": false
    }
   },
   "outputs": [
    {
     "name": "stdout",
     "text": [
      "Created_Date                  object\n",
      "Closed_Date                   object\n",
      "Agency                        object\n",
      "Complaint_Type                object\n",
      "Location_Type                 object\n",
      "City                          object\n",
      "Facility_Type                 object\n",
      "Status                        object\n",
      "Due_Date                      object\n",
      "Resolution_Action_Upd_Date    object\n",
      "Borough                       object\n",
      "Park_Borough                  object\n",
      "dtype: object\n"
     ],
     "output_type": "stream"
    }
   ],
   "source": [
    "print(data_set.dtypes)"
   ]
  },
  {
   "cell_type": "code",
   "execution_count": 15,
   "metadata": {
    "pycharm": {
     "is_executing": false
    }
   },
   "outputs": [],
   "source": [
    "data_set['City']=data_set['City'].fillna('Unknown')"
   ]
  },
  {
   "cell_type": "code",
   "execution_count": 16,
   "metadata": {
    "pycharm": {
     "is_executing": false
    }
   },
   "outputs": [
    {
     "data": {
      "text/plain": "0         NEW YORK\n1          ASTORIA\n2            BRONX\n3            BRONX\n4         ELMHURST\n            ...   \n187117     Unknown\n187118     Unknown\n187119     Unknown\n187120     Unknown\n187121     Unknown\nName: City, Length: 187122, dtype: object"
     },
     "metadata": {},
     "output_type": "execute_result",
     "execution_count": 16
    }
   ],
   "source": [
    "data_set['City']"
   ]
  },
  {
   "cell_type": "code",
   "execution_count": 17,
   "metadata": {
    "pycharm": {
     "is_executing": false
    }
   },
   "outputs": [],
   "source": [
    "a=data_set['Facility_Type'].mode()[0]"
   ]
  },
  {
   "cell_type": "code",
   "execution_count": 18,
   "metadata": {
    "pycharm": {
     "is_executing": false
    }
   },
   "outputs": [
    {
     "data": {
      "text/plain": "'Precinct'"
     },
     "metadata": {},
     "output_type": "execute_result",
     "execution_count": 18
    }
   ],
   "source": [
    "a"
   ]
  },
  {
   "cell_type": "code",
   "execution_count": 19,
   "metadata": {
    "pycharm": {
     "is_executing": false
    }
   },
   "outputs": [],
   "source": [
    "data_set['Facility_Type']=data_set['Facility_Type'].fillna(a)"
   ]
  },
  {
   "cell_type": "code",
   "execution_count": 20,
   "metadata": {
    "pycharm": {
     "is_executing": false
    }
   },
   "outputs": [
    {
     "data": {
      "text/plain": "0         Precinct\n1         Precinct\n2         Precinct\n3         Precinct\n4         Precinct\n            ...   \n187117    Precinct\n187118    Precinct\n187119    Precinct\n187120    Precinct\n187121    Precinct\nName: Facility_Type, Length: 187122, dtype: object"
     },
     "metadata": {},
     "output_type": "execute_result",
     "execution_count": 20
    }
   ],
   "source": [
    "data_set['Facility_Type']"
   ]
  },
  {
   "cell_type": "code",
   "execution_count": 21,
   "metadata": {
    "pycharm": {
     "is_executing": false
    }
   },
   "outputs": [
    {
     "data": {
      "text/plain": "0         Street/Sidewalk\n1         Street/Sidewalk\n2         Street/Sidewalk\n3         Street/Sidewalk\n4         Street/Sidewalk\n               ...       \n187117                NaN\n187118                NaN\n187119                NaN\n187120                NaN\n187121                NaN\nName: Location_Type, Length: 187122, dtype: object"
     },
     "metadata": {},
     "output_type": "execute_result",
     "execution_count": 21
    }
   ],
   "source": [
    "data_set['Location_Type']"
   ]
  },
  {
   "cell_type": "code",
   "execution_count": 22,
   "metadata": {
    "pycharm": {
     "is_executing": false
    }
   },
   "outputs": [
    {
     "name": "stdout",
     "text": [
      "Street/Sidewalk\n"
     ],
     "output_type": "stream"
    }
   ],
   "source": [
    "b=data_set['Location_Type'].mode()[0]\n",
    "print(b)"
   ]
  },
  {
   "cell_type": "code",
   "execution_count": 23,
   "metadata": {
    "pycharm": {
     "is_executing": false
    }
   },
   "outputs": [],
   "source": [
    "data_set['Location_Type']=data_set['Location_Type'].fillna(b)"
   ]
  },
  {
   "cell_type": "code",
   "execution_count": 24,
   "metadata": {
    "pycharm": {
     "is_executing": false
    }
   },
   "outputs": [
    {
     "data": {
      "text/plain": "0         Street/Sidewalk\n1         Street/Sidewalk\n2         Street/Sidewalk\n3         Street/Sidewalk\n4         Street/Sidewalk\n               ...       \n187117    Street/Sidewalk\n187118    Street/Sidewalk\n187119    Street/Sidewalk\n187120    Street/Sidewalk\n187121    Street/Sidewalk\nName: Location_Type, Length: 187122, dtype: object"
     },
     "metadata": {},
     "output_type": "execute_result",
     "execution_count": 24
    }
   ],
   "source": [
    "data_set['Location_Type']"
   ]
  },
  {
   "cell_type": "code",
   "execution_count": 25,
   "metadata": {
    "pycharm": {
     "is_executing": false
    }
   },
   "outputs": [],
   "source": [
    "lbe=LabelEncoder()"
   ]
  },
  {
   "cell_type": "code",
   "execution_count": 26,
   "metadata": {
    "pycharm": {
     "is_executing": false
    }
   },
   "outputs": [],
   "source": [
    "data_set['Agency']=data_set['Agency'].fillna('Unknown')"
   ]
  },
  {
   "cell_type": "code",
   "execution_count": 27,
   "metadata": {
    "pycharm": {
     "is_executing": false
    }
   },
   "outputs": [],
   "source": [
    "data_set['Agency']=lbe.fit_transform(data_set['Agency'])"
   ]
  },
  {
   "cell_type": "code",
   "execution_count": 28,
   "metadata": {
    "pycharm": {
     "is_executing": false
    }
   },
   "outputs": [],
   "source": [
    "ct=data_set['Complaint_Type'].mode()[0]"
   ]
  },
  {
   "cell_type": "code",
   "execution_count": 29,
   "metadata": {
    "pycharm": {
     "is_executing": false
    }
   },
   "outputs": [
    {
     "data": {
      "text/plain": "'Blocked Driveway'"
     },
     "metadata": {},
     "output_type": "execute_result",
     "execution_count": 29
    }
   ],
   "source": [
    "ct"
   ]
  },
  {
   "cell_type": "code",
   "execution_count": 30,
   "metadata": {
    "pycharm": {
     "is_executing": false
    }
   },
   "outputs": [],
   "source": [
    "data_set['Complaint_Type']=data_set['Complaint_Type'].fillna(ct)"
   ]
  },
  {
   "cell_type": "code",
   "execution_count": 31,
   "metadata": {
    "pycharm": {
     "is_executing": false
    }
   },
   "outputs": [
    {
     "data": {
      "text/plain": "0         Noise - Street/Sidewalk\n1                Blocked Driveway\n2                Blocked Driveway\n3                 Illegal Parking\n4                 Illegal Parking\n                   ...           \n187117           Blocked Driveway\n187118           Blocked Driveway\n187119           Blocked Driveway\n187120           Blocked Driveway\n187121           Blocked Driveway\nName: Complaint_Type, Length: 187122, dtype: object"
     },
     "metadata": {},
     "output_type": "execute_result",
     "execution_count": 31
    }
   ],
   "source": [
    "data_set['Complaint_Type']"
   ]
  },
  {
   "cell_type": "code",
   "execution_count": 32,
   "metadata": {
    "pycharm": {
     "is_executing": false
    }
   },
   "outputs": [],
   "source": [
    "data_set['Complaint_Type']=lbe.fit_transform(data_set['Complaint_Type'])"
   ]
  },
  {
   "cell_type": "code",
   "execution_count": 33,
   "metadata": {
    "pycharm": {
     "is_executing": false
    }
   },
   "outputs": [
    {
     "data": {
      "text/plain": "0         14\n1          2\n2          2\n3         10\n4         10\n          ..\n187117     2\n187118     2\n187119     2\n187120     2\n187121     2\nName: Complaint_Type, Length: 187122, dtype: int64"
     },
     "metadata": {},
     "output_type": "execute_result",
     "execution_count": 33
    }
   ],
   "source": [
    "data_set['Complaint_Type']"
   ]
  },
  {
   "cell_type": "code",
   "execution_count": 34,
   "metadata": {
    "pycharm": {
     "is_executing": false
    }
   },
   "outputs": [],
   "source": [
    "data_set['Location_Type']=lbe.fit_transform(data_set['Location_Type'])"
   ]
  },
  {
   "cell_type": "code",
   "execution_count": 35,
   "metadata": {
    "pycharm": {
     "is_executing": false
    }
   },
   "outputs": [
    {
     "data": {
      "text/plain": "0         11\n1         11\n2         11\n3         11\n4         11\n          ..\n187117    11\n187118    11\n187119    11\n187120    11\n187121    11\nName: Location_Type, Length: 187122, dtype: int64"
     },
     "metadata": {},
     "output_type": "execute_result",
     "execution_count": 35
    }
   ],
   "source": [
    "data_set['Location_Type']"
   ]
  },
  {
   "cell_type": "code",
   "execution_count": 36,
   "metadata": {
    "pycharm": {
     "is_executing": false
    }
   },
   "outputs": [],
   "source": [
    "data_set['City']=lbe.fit_transform(data_set['City'])"
   ]
  },
  {
   "cell_type": "code",
   "execution_count": 37,
   "metadata": {
    "pycharm": {
     "is_executing": false
    }
   },
   "outputs": [
    {
     "data": {
      "text/plain": "0         31\n1          1\n2          6\n3          6\n4         13\n          ..\n187117    46\n187118    46\n187119    46\n187120    46\n187121    46\nName: City, Length: 187122, dtype: int64"
     },
     "metadata": {},
     "output_type": "execute_result",
     "execution_count": 37
    }
   ],
   "source": [
    "data_set['City']"
   ]
  },
  {
   "cell_type": "code",
   "execution_count": 38,
   "metadata": {
    "pycharm": {
     "is_executing": false
    }
   },
   "outputs": [],
   "source": [
    "data_set['Facility_Type']=lbe.fit_transform(data_set['Facility_Type'])"
   ]
  },
  {
   "cell_type": "code",
   "execution_count": 39,
   "metadata": {
    "pycharm": {
     "is_executing": false
    }
   },
   "outputs": [],
   "source": [
    "br=data_set['Borough'].mode()[0]"
   ]
  },
  {
   "cell_type": "code",
   "execution_count": 40,
   "metadata": {
    "pycharm": {
     "is_executing": false
    }
   },
   "outputs": [
    {
     "data": {
      "text/plain": "'BROOKLYN'"
     },
     "metadata": {},
     "output_type": "execute_result",
     "execution_count": 40
    }
   ],
   "source": [
    "br"
   ]
  },
  {
   "cell_type": "code",
   "execution_count": 41,
   "metadata": {
    "pycharm": {
     "is_executing": false
    }
   },
   "outputs": [],
   "source": [
    "data_set['Borough']=data_set['Borough'].fillna(br)"
   ]
  },
  {
   "cell_type": "code",
   "execution_count": 42,
   "metadata": {
    "pycharm": {
     "is_executing": false
    }
   },
   "outputs": [],
   "source": [
    "data_set['Borough']=lbe.fit_transform(data_set['Borough'])"
   ]
  },
  {
   "cell_type": "code",
   "execution_count": 43,
   "metadata": {
    "pycharm": {
     "is_executing": false
    }
   },
   "outputs": [],
   "source": [
    "pbr=data_set['Park_Borough'].mode()[0]"
   ]
  },
  {
   "cell_type": "code",
   "execution_count": 44,
   "metadata": {
    "pycharm": {
     "is_executing": false
    }
   },
   "outputs": [
    {
     "data": {
      "text/plain": "'BROOKLYN'"
     },
     "metadata": {},
     "output_type": "execute_result",
     "execution_count": 44
    }
   ],
   "source": [
    "pbr"
   ]
  },
  {
   "cell_type": "code",
   "execution_count": 45,
   "metadata": {
    "pycharm": {
     "is_executing": false
    }
   },
   "outputs": [],
   "source": [
    "data_set['Park_Borough']=data_set['Park_Borough'].fillna(pbr)"
   ]
  },
  {
   "cell_type": "code",
   "execution_count": 46,
   "metadata": {
    "pycharm": {
     "is_executing": false
    }
   },
   "outputs": [],
   "source": [
    "sts=data_set['Status'].mode()[0]"
   ]
  },
  {
   "cell_type": "code",
   "execution_count": 47,
   "metadata": {
    "pycharm": {
     "is_executing": false
    }
   },
   "outputs": [
    {
     "data": {
      "text/plain": "'Closed'"
     },
     "metadata": {},
     "output_type": "execute_result",
     "execution_count": 47
    }
   ],
   "source": [
    "sts\n"
   ]
  },
  {
   "cell_type": "code",
   "execution_count": 48,
   "metadata": {
    "pycharm": {
     "is_executing": false
    }
   },
   "outputs": [],
   "source": [
    "data_set['Status']=data_set['Status'].fillna('Unknown')"
   ]
  },
  {
   "cell_type": "code",
   "execution_count": 49,
   "metadata": {
    "pycharm": {
     "is_executing": false
    }
   },
   "outputs": [],
   "source": [
    "data_set['Park_Borough']=lbe.fit_transform(data_set['Park_Borough'])\n",
    "data_set['Status']=lbe.fit_transform(data_set['Status'])\n"
   ]
  },
  {
   "cell_type": "code",
   "execution_count": 50,
   "metadata": {
    "pycharm": {
     "is_executing": false
    }
   },
   "outputs": [
    {
     "name": "stdout",
     "text": [
      "              Agency  Complaint_Type  Location_Type           City  \\\n",
      "count  187122.000000   187122.000000  187122.000000  187122.000000   \n",
      "mean        0.880837        2.786722      10.913196      42.754369   \n",
      "std         0.323981        2.806810       0.852035      10.072933   \n",
      "min         0.000000        0.000000       0.000000       0.000000   \n",
      "25%         1.000000        2.000000      11.000000      46.000000   \n",
      "50%         1.000000        2.000000      11.000000      46.000000   \n",
      "75%         1.000000        2.000000      11.000000      46.000000   \n",
      "max         1.000000       20.000000      14.000000      50.000000   \n",
      "\n",
      "       Facility_Type         Status        Borough   Park_Borough  \n",
      "count       187122.0  187122.000000  187122.000000  187122.000000  \n",
      "mean             0.0       2.761567       1.092164       1.092164  \n",
      "std              0.0       0.649323       0.484333       0.484333  \n",
      "min              0.0       0.000000       0.000000       0.000000  \n",
      "25%              0.0       3.000000       1.000000       1.000000  \n",
      "50%              0.0       3.000000       1.000000       1.000000  \n",
      "75%              0.0       3.000000       1.000000       1.000000  \n",
      "max              0.0       3.000000       5.000000       5.000000  \n"
     ],
     "output_type": "stream"
    }
   ],
   "source": [
    "print(data_set.describe())"
   ]
  },
  {
   "cell_type": "code",
   "execution_count": 51,
   "metadata": {
    "pycharm": {
     "is_executing": false
    }
   },
   "outputs": [
    {
     "name": "stdout",
     "text": [
      "Created_Date                  object\n",
      "Closed_Date                   object\n",
      "Agency                         int64\n",
      "Complaint_Type                 int64\n",
      "Location_Type                  int64\n",
      "City                           int64\n",
      "Facility_Type                  int64\n",
      "Status                         int64\n",
      "Due_Date                      object\n",
      "Resolution_Action_Upd_Date    object\n",
      "Borough                        int64\n",
      "Park_Borough                   int64\n",
      "dtype: object\n"
     ],
     "output_type": "stream"
    }
   ],
   "source": [
    "print(data_set.dtypes)"
   ]
  },
  {
   "cell_type": "code",
   "execution_count": 52,
   "metadata": {
    "pycharm": {
     "is_executing": false
    }
   },
   "outputs": [
    {
     "data": {
      "text/plain": "Index(['Complaint_Type', 'Location_Type', 'City', 'Facility_Type', 'Status',\n       'Borough', 'Park_Borough'],\n      dtype='object')"
     },
     "metadata": {},
     "output_type": "execute_result",
     "execution_count": 52
    }
   ],
   "source": [
    "data_set.drop(['Created_Date','Closed_Date','Due_Date','Resolution_Action_Upd_Date','Agency'],axis=1,inplace = True)\n",
    "data_set.columns"
   ]
  },
  {
   "cell_type": "code",
   "execution_count": 53,
   "metadata": {
    "pycharm": {
     "is_executing": false
    }
   },
   "outputs": [
    {
     "data": {
      "text/plain": "        Complaint_Type  Location_Type  City  Facility_Type  Status  Borough  \\\n0                   14             11    31              0       1        2   \n1                    2             11     1              0       1        3   \n2                    2             11     6              0       1        0   \n3                   10             11     6              0       1        0   \n4                   10             11    13              0       1        3   \n...                ...            ...   ...            ...     ...      ...   \n187117               2             11    46              0       3        1   \n187118               2             11    46              0       3        1   \n187119               2             11    46              0       3        1   \n187120               2             11    46              0       3        1   \n187121               2             11    46              0       3        1   \n\n        Park_Borough  \n0                  2  \n1                  3  \n2                  0  \n3                  0  \n4                  3  \n...              ...  \n187117             1  \n187118             1  \n187119             1  \n187120             1  \n187121             1  \n\n[187122 rows x 7 columns]",
      "text/html": "<div>\n<style scoped>\n    .dataframe tbody tr th:only-of-type {\n        vertical-align: middle;\n    }\n\n    .dataframe tbody tr th {\n        vertical-align: top;\n    }\n\n    .dataframe thead th {\n        text-align: right;\n    }\n</style>\n<table border=\"1\" class=\"dataframe\">\n  <thead>\n    <tr style=\"text-align: right;\">\n      <th></th>\n      <th>Complaint_Type</th>\n      <th>Location_Type</th>\n      <th>City</th>\n      <th>Facility_Type</th>\n      <th>Status</th>\n      <th>Borough</th>\n      <th>Park_Borough</th>\n    </tr>\n  </thead>\n  <tbody>\n    <tr>\n      <th>0</th>\n      <td>14</td>\n      <td>11</td>\n      <td>31</td>\n      <td>0</td>\n      <td>1</td>\n      <td>2</td>\n      <td>2</td>\n    </tr>\n    <tr>\n      <th>1</th>\n      <td>2</td>\n      <td>11</td>\n      <td>1</td>\n      <td>0</td>\n      <td>1</td>\n      <td>3</td>\n      <td>3</td>\n    </tr>\n    <tr>\n      <th>2</th>\n      <td>2</td>\n      <td>11</td>\n      <td>6</td>\n      <td>0</td>\n      <td>1</td>\n      <td>0</td>\n      <td>0</td>\n    </tr>\n    <tr>\n      <th>3</th>\n      <td>10</td>\n      <td>11</td>\n      <td>6</td>\n      <td>0</td>\n      <td>1</td>\n      <td>0</td>\n      <td>0</td>\n    </tr>\n    <tr>\n      <th>4</th>\n      <td>10</td>\n      <td>11</td>\n      <td>13</td>\n      <td>0</td>\n      <td>1</td>\n      <td>3</td>\n      <td>3</td>\n    </tr>\n    <tr>\n      <th>...</th>\n      <td>...</td>\n      <td>...</td>\n      <td>...</td>\n      <td>...</td>\n      <td>...</td>\n      <td>...</td>\n      <td>...</td>\n    </tr>\n    <tr>\n      <th>187117</th>\n      <td>2</td>\n      <td>11</td>\n      <td>46</td>\n      <td>0</td>\n      <td>3</td>\n      <td>1</td>\n      <td>1</td>\n    </tr>\n    <tr>\n      <th>187118</th>\n      <td>2</td>\n      <td>11</td>\n      <td>46</td>\n      <td>0</td>\n      <td>3</td>\n      <td>1</td>\n      <td>1</td>\n    </tr>\n    <tr>\n      <th>187119</th>\n      <td>2</td>\n      <td>11</td>\n      <td>46</td>\n      <td>0</td>\n      <td>3</td>\n      <td>1</td>\n      <td>1</td>\n    </tr>\n    <tr>\n      <th>187120</th>\n      <td>2</td>\n      <td>11</td>\n      <td>46</td>\n      <td>0</td>\n      <td>3</td>\n      <td>1</td>\n      <td>1</td>\n    </tr>\n    <tr>\n      <th>187121</th>\n      <td>2</td>\n      <td>11</td>\n      <td>46</td>\n      <td>0</td>\n      <td>3</td>\n      <td>1</td>\n      <td>1</td>\n    </tr>\n  </tbody>\n</table>\n<p>187122 rows × 7 columns</p>\n</div>"
     },
     "metadata": {},
     "output_type": "execute_result",
     "execution_count": 53
    }
   ],
   "source": [
    "data_set"
   ]
  },
  {
   "cell_type": "code",
   "execution_count": 54,
   "metadata": {
    "pycharm": {
     "is_executing": false
    }
   },
   "outputs": [
    {
     "data": {
      "text/plain": "0         1\n1         1\n2         1\n3         1\n4         1\n         ..\n187117    3\n187118    3\n187119    3\n187120    3\n187121    3\nName: Status, Length: 187122, dtype: int64"
     },
     "metadata": {},
     "output_type": "execute_result",
     "execution_count": 54
    }
   ],
   "source": [
    "status=data_set['Status']\n",
    "status"
   ]
  },
  {
   "cell_type": "code",
   "execution_count": 55,
   "metadata": {
    "pycharm": {
     "is_executing": false
    }
   },
   "outputs": [
    {
     "data": {
      "text/plain": "        Complaint_Type  Location_Type  City  Facility_Type  Borough  \\\n0                   14             11    31              0        2   \n1                    2             11     1              0        3   \n2                    2             11     6              0        0   \n3                   10             11     6              0        0   \n4                   10             11    13              0        3   \n...                ...            ...   ...            ...      ...   \n187117               2             11    46              0        1   \n187118               2             11    46              0        1   \n187119               2             11    46              0        1   \n187120               2             11    46              0        1   \n187121               2             11    46              0        1   \n\n        Park_Borough  \n0                  2  \n1                  3  \n2                  0  \n3                  0  \n4                  3  \n...              ...  \n187117             1  \n187118             1  \n187119             1  \n187120             1  \n187121             1  \n\n[187122 rows x 6 columns]",
      "text/html": "<div>\n<style scoped>\n    .dataframe tbody tr th:only-of-type {\n        vertical-align: middle;\n    }\n\n    .dataframe tbody tr th {\n        vertical-align: top;\n    }\n\n    .dataframe thead th {\n        text-align: right;\n    }\n</style>\n<table border=\"1\" class=\"dataframe\">\n  <thead>\n    <tr style=\"text-align: right;\">\n      <th></th>\n      <th>Complaint_Type</th>\n      <th>Location_Type</th>\n      <th>City</th>\n      <th>Facility_Type</th>\n      <th>Borough</th>\n      <th>Park_Borough</th>\n    </tr>\n  </thead>\n  <tbody>\n    <tr>\n      <th>0</th>\n      <td>14</td>\n      <td>11</td>\n      <td>31</td>\n      <td>0</td>\n      <td>2</td>\n      <td>2</td>\n    </tr>\n    <tr>\n      <th>1</th>\n      <td>2</td>\n      <td>11</td>\n      <td>1</td>\n      <td>0</td>\n      <td>3</td>\n      <td>3</td>\n    </tr>\n    <tr>\n      <th>2</th>\n      <td>2</td>\n      <td>11</td>\n      <td>6</td>\n      <td>0</td>\n      <td>0</td>\n      <td>0</td>\n    </tr>\n    <tr>\n      <th>3</th>\n      <td>10</td>\n      <td>11</td>\n      <td>6</td>\n      <td>0</td>\n      <td>0</td>\n      <td>0</td>\n    </tr>\n    <tr>\n      <th>4</th>\n      <td>10</td>\n      <td>11</td>\n      <td>13</td>\n      <td>0</td>\n      <td>3</td>\n      <td>3</td>\n    </tr>\n    <tr>\n      <th>...</th>\n      <td>...</td>\n      <td>...</td>\n      <td>...</td>\n      <td>...</td>\n      <td>...</td>\n      <td>...</td>\n    </tr>\n    <tr>\n      <th>187117</th>\n      <td>2</td>\n      <td>11</td>\n      <td>46</td>\n      <td>0</td>\n      <td>1</td>\n      <td>1</td>\n    </tr>\n    <tr>\n      <th>187118</th>\n      <td>2</td>\n      <td>11</td>\n      <td>46</td>\n      <td>0</td>\n      <td>1</td>\n      <td>1</td>\n    </tr>\n    <tr>\n      <th>187119</th>\n      <td>2</td>\n      <td>11</td>\n      <td>46</td>\n      <td>0</td>\n      <td>1</td>\n      <td>1</td>\n    </tr>\n    <tr>\n      <th>187120</th>\n      <td>2</td>\n      <td>11</td>\n      <td>46</td>\n      <td>0</td>\n      <td>1</td>\n      <td>1</td>\n    </tr>\n    <tr>\n      <th>187121</th>\n      <td>2</td>\n      <td>11</td>\n      <td>46</td>\n      <td>0</td>\n      <td>1</td>\n      <td>1</td>\n    </tr>\n  </tbody>\n</table>\n<p>187122 rows × 6 columns</p>\n</div>"
     },
     "metadata": {},
     "output_type": "execute_result",
     "execution_count": 55
    }
   ],
   "source": [
    "data_set.drop(['Status'],axis=1,inplace=True)\n",
    "data_set"
   ]
  },
  {
   "cell_type": "code",
   "execution_count": 56,
   "metadata": {
    "pycharm": {
     "is_executing": false
    }
   },
   "outputs": [
    {
     "data": {
      "text/plain": "        Complaint_Type  Location_Type  City  Facility_Type  Borough  \\\n0                   14             11    31              0        2   \n1                    2             11     1              0        3   \n2                    2             11     6              0        0   \n3                   10             11     6              0        0   \n4                   10             11    13              0        3   \n...                ...            ...   ...            ...      ...   \n187117               2             11    46              0        1   \n187118               2             11    46              0        1   \n187119               2             11    46              0        1   \n187120               2             11    46              0        1   \n187121               2             11    46              0        1   \n\n        Park_Borough  Status  \n0                  2       1  \n1                  3       1  \n2                  0       1  \n3                  0       1  \n4                  3       1  \n...              ...     ...  \n187117             1       3  \n187118             1       3  \n187119             1       3  \n187120             1       3  \n187121             1       3  \n\n[187122 rows x 7 columns]",
      "text/html": "<div>\n<style scoped>\n    .dataframe tbody tr th:only-of-type {\n        vertical-align: middle;\n    }\n\n    .dataframe tbody tr th {\n        vertical-align: top;\n    }\n\n    .dataframe thead th {\n        text-align: right;\n    }\n</style>\n<table border=\"1\" class=\"dataframe\">\n  <thead>\n    <tr style=\"text-align: right;\">\n      <th></th>\n      <th>Complaint_Type</th>\n      <th>Location_Type</th>\n      <th>City</th>\n      <th>Facility_Type</th>\n      <th>Borough</th>\n      <th>Park_Borough</th>\n      <th>Status</th>\n    </tr>\n  </thead>\n  <tbody>\n    <tr>\n      <th>0</th>\n      <td>14</td>\n      <td>11</td>\n      <td>31</td>\n      <td>0</td>\n      <td>2</td>\n      <td>2</td>\n      <td>1</td>\n    </tr>\n    <tr>\n      <th>1</th>\n      <td>2</td>\n      <td>11</td>\n      <td>1</td>\n      <td>0</td>\n      <td>3</td>\n      <td>3</td>\n      <td>1</td>\n    </tr>\n    <tr>\n      <th>2</th>\n      <td>2</td>\n      <td>11</td>\n      <td>6</td>\n      <td>0</td>\n      <td>0</td>\n      <td>0</td>\n      <td>1</td>\n    </tr>\n    <tr>\n      <th>3</th>\n      <td>10</td>\n      <td>11</td>\n      <td>6</td>\n      <td>0</td>\n      <td>0</td>\n      <td>0</td>\n      <td>1</td>\n    </tr>\n    <tr>\n      <th>4</th>\n      <td>10</td>\n      <td>11</td>\n      <td>13</td>\n      <td>0</td>\n      <td>3</td>\n      <td>3</td>\n      <td>1</td>\n    </tr>\n    <tr>\n      <th>...</th>\n      <td>...</td>\n      <td>...</td>\n      <td>...</td>\n      <td>...</td>\n      <td>...</td>\n      <td>...</td>\n      <td>...</td>\n    </tr>\n    <tr>\n      <th>187117</th>\n      <td>2</td>\n      <td>11</td>\n      <td>46</td>\n      <td>0</td>\n      <td>1</td>\n      <td>1</td>\n      <td>3</td>\n    </tr>\n    <tr>\n      <th>187118</th>\n      <td>2</td>\n      <td>11</td>\n      <td>46</td>\n      <td>0</td>\n      <td>1</td>\n      <td>1</td>\n      <td>3</td>\n    </tr>\n    <tr>\n      <th>187119</th>\n      <td>2</td>\n      <td>11</td>\n      <td>46</td>\n      <td>0</td>\n      <td>1</td>\n      <td>1</td>\n      <td>3</td>\n    </tr>\n    <tr>\n      <th>187120</th>\n      <td>2</td>\n      <td>11</td>\n      <td>46</td>\n      <td>0</td>\n      <td>1</td>\n      <td>1</td>\n      <td>3</td>\n    </tr>\n    <tr>\n      <th>187121</th>\n      <td>2</td>\n      <td>11</td>\n      <td>46</td>\n      <td>0</td>\n      <td>1</td>\n      <td>1</td>\n      <td>3</td>\n    </tr>\n  </tbody>\n</table>\n<p>187122 rows × 7 columns</p>\n</div>"
     },
     "metadata": {},
     "output_type": "execute_result",
     "execution_count": 56
    }
   ],
   "source": [
    "data_set['Status']=status\n",
    "data_set"
   ]
  },
  {
   "cell_type": "code",
   "execution_count": 57,
   "metadata": {
    "pycharm": {
     "is_executing": false
    }
   },
   "outputs": [],
   "source": [
    "x=data_set.iloc[:,0:6]"
   ]
  },
  {
   "cell_type": "code",
   "execution_count": 58,
   "metadata": {
    "pycharm": {
     "is_executing": false
    }
   },
   "outputs": [
    {
     "data": {
      "text/plain": "        Complaint_Type  Location_Type  City  Facility_Type  Borough  \\\n0                   14             11    31              0        2   \n1                    2             11     1              0        3   \n2                    2             11     6              0        0   \n3                   10             11     6              0        0   \n4                   10             11    13              0        3   \n...                ...            ...   ...            ...      ...   \n187117               2             11    46              0        1   \n187118               2             11    46              0        1   \n187119               2             11    46              0        1   \n187120               2             11    46              0        1   \n187121               2             11    46              0        1   \n\n        Park_Borough  \n0                  2  \n1                  3  \n2                  0  \n3                  0  \n4                  3  \n...              ...  \n187117             1  \n187118             1  \n187119             1  \n187120             1  \n187121             1  \n\n[187122 rows x 6 columns]",
      "text/html": "<div>\n<style scoped>\n    .dataframe tbody tr th:only-of-type {\n        vertical-align: middle;\n    }\n\n    .dataframe tbody tr th {\n        vertical-align: top;\n    }\n\n    .dataframe thead th {\n        text-align: right;\n    }\n</style>\n<table border=\"1\" class=\"dataframe\">\n  <thead>\n    <tr style=\"text-align: right;\">\n      <th></th>\n      <th>Complaint_Type</th>\n      <th>Location_Type</th>\n      <th>City</th>\n      <th>Facility_Type</th>\n      <th>Borough</th>\n      <th>Park_Borough</th>\n    </tr>\n  </thead>\n  <tbody>\n    <tr>\n      <th>0</th>\n      <td>14</td>\n      <td>11</td>\n      <td>31</td>\n      <td>0</td>\n      <td>2</td>\n      <td>2</td>\n    </tr>\n    <tr>\n      <th>1</th>\n      <td>2</td>\n      <td>11</td>\n      <td>1</td>\n      <td>0</td>\n      <td>3</td>\n      <td>3</td>\n    </tr>\n    <tr>\n      <th>2</th>\n      <td>2</td>\n      <td>11</td>\n      <td>6</td>\n      <td>0</td>\n      <td>0</td>\n      <td>0</td>\n    </tr>\n    <tr>\n      <th>3</th>\n      <td>10</td>\n      <td>11</td>\n      <td>6</td>\n      <td>0</td>\n      <td>0</td>\n      <td>0</td>\n    </tr>\n    <tr>\n      <th>4</th>\n      <td>10</td>\n      <td>11</td>\n      <td>13</td>\n      <td>0</td>\n      <td>3</td>\n      <td>3</td>\n    </tr>\n    <tr>\n      <th>...</th>\n      <td>...</td>\n      <td>...</td>\n      <td>...</td>\n      <td>...</td>\n      <td>...</td>\n      <td>...</td>\n    </tr>\n    <tr>\n      <th>187117</th>\n      <td>2</td>\n      <td>11</td>\n      <td>46</td>\n      <td>0</td>\n      <td>1</td>\n      <td>1</td>\n    </tr>\n    <tr>\n      <th>187118</th>\n      <td>2</td>\n      <td>11</td>\n      <td>46</td>\n      <td>0</td>\n      <td>1</td>\n      <td>1</td>\n    </tr>\n    <tr>\n      <th>187119</th>\n      <td>2</td>\n      <td>11</td>\n      <td>46</td>\n      <td>0</td>\n      <td>1</td>\n      <td>1</td>\n    </tr>\n    <tr>\n      <th>187120</th>\n      <td>2</td>\n      <td>11</td>\n      <td>46</td>\n      <td>0</td>\n      <td>1</td>\n      <td>1</td>\n    </tr>\n    <tr>\n      <th>187121</th>\n      <td>2</td>\n      <td>11</td>\n      <td>46</td>\n      <td>0</td>\n      <td>1</td>\n      <td>1</td>\n    </tr>\n  </tbody>\n</table>\n<p>187122 rows × 6 columns</p>\n</div>"
     },
     "metadata": {},
     "output_type": "execute_result",
     "execution_count": 58
    }
   ],
   "source": [
    "x"
   ]
  },
  {
   "cell_type": "code",
   "execution_count": 59,
   "metadata": {
    "pycharm": {
     "is_executing": false
    }
   },
   "outputs": [],
   "source": [
    "y=data_set.iloc[:,6]"
   ]
  },
  {
   "cell_type": "code",
   "execution_count": 60,
   "metadata": {
    "pycharm": {
     "is_executing": false
    }
   },
   "outputs": [
    {
     "data": {
      "text/plain": "0         1\n1         1\n2         1\n3         1\n4         1\n         ..\n187117    3\n187118    3\n187119    3\n187120    3\n187121    3\nName: Status, Length: 187122, dtype: int64"
     },
     "metadata": {},
     "output_type": "execute_result",
     "execution_count": 60
    }
   ],
   "source": [
    "y"
   ]
  },
  {
   "cell_type": "code",
   "execution_count": 61,
   "metadata": {
    "pycharm": {
     "is_executing": false
    }
   },
   "outputs": [
    {
     "name": "stdout",
     "text": [
      "0\n"
     ],
     "output_type": "stream"
    }
   ],
   "source": [
    "print(y.isnull().sum())"
   ]
  },
  {
   "cell_type": "code",
   "execution_count": 62,
   "metadata": {
    "pycharm": {
     "is_executing": false
    }
   },
   "outputs": [],
   "source": [
    "X_train,X_test,y_train,y_test = model_selection.train_test_split(x,y,test_size=0.3,random_state=42)"
   ]
  },
  {
   "cell_type": "code",
   "execution_count": 63,
   "metadata": {
    "pycharm": {
     "is_executing": false
    }
   },
   "outputs": [
    {
     "name": "stdout",
     "text": [
      "(130985, 6)\n"
     ],
     "output_type": "stream"
    }
   ],
   "source": [
    "print(X_train.shape)"
   ]
  },
  {
   "cell_type": "code",
   "execution_count": 64,
   "metadata": {
    "pycharm": {
     "is_executing": false
    }
   },
   "outputs": [
    {
     "name": "stdout",
     "text": [
      "(130985,)\n"
     ],
     "output_type": "stream"
    }
   ],
   "source": [
    "print(y_train.shape)"
   ]
  },
  {
   "cell_type": "code",
   "execution_count": 65,
   "metadata": {
    "pycharm": {
     "is_executing": false
    }
   },
   "outputs": [
    {
     "name": "stdout",
     "text": [
      "(56137, 6)\n"
     ],
     "output_type": "stream"
    }
   ],
   "source": [
    "print(X_test.shape)"
   ]
  },
  {
   "cell_type": "code",
   "execution_count": 66,
   "metadata": {
    "pycharm": {
     "is_executing": false
    }
   },
   "outputs": [
    {
     "name": "stdout",
     "text": [
      "(56137,)\n"
     ],
     "output_type": "stream"
    }
   ],
   "source": [
    "print(y_test.shape)"
   ]
  },
  {
   "cell_type": "code",
   "execution_count": 67,
   "metadata": {
    "pycharm": {
     "is_executing": false
    }
   },
   "outputs": [],
   "source": [
    "ss= StandardScaler()\n",
    "XX_train=ss.fit_transform(X_train)\n",
    "XX_test=ss.fit_transform(X_test)"
   ]
  },
  {
   "cell_type": "code",
   "execution_count": 68,
   "metadata": {
    "pycharm": {
     "is_executing": false
    }
   },
   "outputs": [
    {
     "name": "stdout",
     "text": [
      "187122\n"
     ],
     "output_type": "stream"
    }
   ],
   "source": [
    "print(len(y))"
   ]
  },
  {
   "cell_type": "code",
   "execution_count": 69,
   "metadata": {
    "pycharm": {
     "is_executing": false
    }
   },
   "outputs": [
    {
     "name": "stdout",
     "text": [
      "236.93247983339052\n"
     ],
     "output_type": "stream"
    }
   ],
   "source": [
    "print(math.sqrt(len(y_test)) )"
   ]
  },
  {
   "cell_type": "code",
   "execution_count": 70,
   "outputs": [
    {
     "data": {
      "text/plain": "KNeighborsClassifier(algorithm='auto', leaf_size=30, metric='minkowski',\n                     metric_params=None, n_jobs=None, n_neighbors=20, p=2,\n                     weights='uniform')"
     },
     "metadata": {},
     "output_type": "execute_result",
     "execution_count": 70
    }
   ],
   "source": [
    "category= KNeighborsClassifier(n_neighbors=20)\n",
    "category.fit(XX_train,y_train)"
   ],
   "metadata": {
    "collapsed": false,
    "pycharm": {
     "name": "#%%\n",
     "is_executing": false
    }
   }
  },
  {
   "cell_type": "code",
   "execution_count": 71,
   "outputs": [
    {
     "name": "stdout",
     "text": [
      "[3 3 3 ... 1 3 3]\n"
     ],
     "output_type": "stream"
    }
   ],
   "source": [
    "y_predict=category.predict(XX_test)\n",
    "print(y_predict)"
   ],
   "metadata": {
    "collapsed": false,
    "pycharm": {
     "name": "#%%\n",
     "is_executing": false
    }
   }
  },
  {
   "cell_type": "code",
   "execution_count": 72,
   "outputs": [
    {
     "data": {
      "text/plain": "0.9992162032171296"
     },
     "metadata": {},
     "output_type": "execute_result",
     "execution_count": 72
    }
   ],
   "source": [
    "accuracy_score(y_test,y_predict)"
   ],
   "metadata": {
    "collapsed": false,
    "pycharm": {
     "name": "#%%\n",
     "is_executing": false
    }
   }
  },
  {
   "cell_type": "code",
   "execution_count": 73,
   "outputs": [
    {
     "data": {
      "text/plain": "        Complaint_Type  Location_Type  City  Facility_Type  Borough  \\\n0                   14             11    31              0        2   \n1                    2             11     1              0        3   \n2                    2             11     6              0        0   \n3                   10             11     6              0        0   \n4                   10             11    13              0        3   \n...                ...            ...   ...            ...      ...   \n187117               2             11    46              0        1   \n187118               2             11    46              0        1   \n187119               2             11    46              0        1   \n187120               2             11    46              0        1   \n187121               2             11    46              0        1   \n\n        Park_Borough  Status  \n0                  2       1  \n1                  3       1  \n2                  0       1  \n3                  0       1  \n4                  3       1  \n...              ...     ...  \n187117             1       3  \n187118             1       3  \n187119             1       3  \n187120             1       3  \n187121             1       3  \n\n[187122 rows x 7 columns]",
      "text/html": "<div>\n<style scoped>\n    .dataframe tbody tr th:only-of-type {\n        vertical-align: middle;\n    }\n\n    .dataframe tbody tr th {\n        vertical-align: top;\n    }\n\n    .dataframe thead th {\n        text-align: right;\n    }\n</style>\n<table border=\"1\" class=\"dataframe\">\n  <thead>\n    <tr style=\"text-align: right;\">\n      <th></th>\n      <th>Complaint_Type</th>\n      <th>Location_Type</th>\n      <th>City</th>\n      <th>Facility_Type</th>\n      <th>Borough</th>\n      <th>Park_Borough</th>\n      <th>Status</th>\n    </tr>\n  </thead>\n  <tbody>\n    <tr>\n      <th>0</th>\n      <td>14</td>\n      <td>11</td>\n      <td>31</td>\n      <td>0</td>\n      <td>2</td>\n      <td>2</td>\n      <td>1</td>\n    </tr>\n    <tr>\n      <th>1</th>\n      <td>2</td>\n      <td>11</td>\n      <td>1</td>\n      <td>0</td>\n      <td>3</td>\n      <td>3</td>\n      <td>1</td>\n    </tr>\n    <tr>\n      <th>2</th>\n      <td>2</td>\n      <td>11</td>\n      <td>6</td>\n      <td>0</td>\n      <td>0</td>\n      <td>0</td>\n      <td>1</td>\n    </tr>\n    <tr>\n      <th>3</th>\n      <td>10</td>\n      <td>11</td>\n      <td>6</td>\n      <td>0</td>\n      <td>0</td>\n      <td>0</td>\n      <td>1</td>\n    </tr>\n    <tr>\n      <th>4</th>\n      <td>10</td>\n      <td>11</td>\n      <td>13</td>\n      <td>0</td>\n      <td>3</td>\n      <td>3</td>\n      <td>1</td>\n    </tr>\n    <tr>\n      <th>...</th>\n      <td>...</td>\n      <td>...</td>\n      <td>...</td>\n      <td>...</td>\n      <td>...</td>\n      <td>...</td>\n      <td>...</td>\n    </tr>\n    <tr>\n      <th>187117</th>\n      <td>2</td>\n      <td>11</td>\n      <td>46</td>\n      <td>0</td>\n      <td>1</td>\n      <td>1</td>\n      <td>3</td>\n    </tr>\n    <tr>\n      <th>187118</th>\n      <td>2</td>\n      <td>11</td>\n      <td>46</td>\n      <td>0</td>\n      <td>1</td>\n      <td>1</td>\n      <td>3</td>\n    </tr>\n    <tr>\n      <th>187119</th>\n      <td>2</td>\n      <td>11</td>\n      <td>46</td>\n      <td>0</td>\n      <td>1</td>\n      <td>1</td>\n      <td>3</td>\n    </tr>\n    <tr>\n      <th>187120</th>\n      <td>2</td>\n      <td>11</td>\n      <td>46</td>\n      <td>0</td>\n      <td>1</td>\n      <td>1</td>\n      <td>3</td>\n    </tr>\n    <tr>\n      <th>187121</th>\n      <td>2</td>\n      <td>11</td>\n      <td>46</td>\n      <td>0</td>\n      <td>1</td>\n      <td>1</td>\n      <td>3</td>\n    </tr>\n  </tbody>\n</table>\n<p>187122 rows × 7 columns</p>\n</div>"
     },
     "metadata": {},
     "output_type": "execute_result",
     "execution_count": 73
    }
   ],
   "source": [
    "data_set"
   ],
   "metadata": {
    "collapsed": false,
    "pycharm": {
     "name": "#%%\n",
     "is_executing": false
    }
   }
  },
  {
   "cell_type": "code",
   "execution_count": 74,
   "outputs": [],
   "source": [
    "from sklearn.tree import DecisionTreeClassifier"
   ],
   "metadata": {
    "collapsed": false,
    "pycharm": {
     "name": "#%%\n",
     "is_executing": false
    }
   }
  },
  {
   "cell_type": "code",
   "execution_count": 75,
   "outputs": [],
   "source": [
    "X_train,X_test,y_train,y_test=model_selection.train_test_split(x,y,random_state=42,test_size=0.3)"
   ],
   "metadata": {
    "collapsed": false,
    "pycharm": {
     "name": "#%%\n",
     "is_executing": false
    }
   }
  },
  {
   "cell_type": "code",
   "execution_count": 76,
   "outputs": [
    {
     "name": "stdout",
     "text": [
      "[3 3 3 ... 1 3 3]\n"
     ],
     "output_type": "stream"
    }
   ],
   "source": [
    "dtclf=DecisionTreeClassifier(criterion='entropy')\n",
    "dtclf.fit(X_train,y_train)\n",
    "y_pred = dtclf.predict(X_test)\n",
    "print(y_pred)\n"
   ],
   "metadata": {
    "collapsed": false,
    "pycharm": {
     "name": "#%%\n",
     "is_executing": false
    }
   }
  },
  {
   "cell_type": "code",
   "execution_count": 77,
   "outputs": [
    {
     "name": "stdout",
     "text": [
      "0.9992340167803766\n"
     ],
     "output_type": "stream"
    }
   ],
   "source": [
    "print(accuracy_score(y_test,y_pred))"
   ],
   "metadata": {
    "collapsed": false,
    "pycharm": {
     "name": "#%%\n",
     "is_executing": false
    }
   }
  },
  {
   "cell_type": "code",
   "execution_count": 78,
   "outputs": [
    {
     "name": "stdout",
     "text": [
      "[[   29     1    10     0]\n",
      " [    1  6517     5     0]\n",
      " [   25     1    21     0]\n",
      " [    0     0     0 49527]]\n"
     ],
     "output_type": "stream"
    }
   ],
   "source": [
    "from sklearn.metrics import confusion_matrix\n",
    "cm = confusion_matrix(y_test, y_pred)\n",
    "print(cm)\n"
   ],
   "metadata": {
    "collapsed": false,
    "pycharm": {
     "name": "#%%\n",
     "is_executing": false
    }
   }
  },
  {
   "cell_type": "code",
   "execution_count": 78,
   "metadata": {
    "pycharm": {
     "is_executing": false
    }
   },
   "outputs": [],
   "source": []
  },
  {
   "cell_type": "code",
   "execution_count": 79,
   "metadata": {
    "pycharm": {
     "is_executing": false
    }
   },
   "outputs": [
    {
     "name": "stdout",
     "text": [
      "[3 3 3 ... 1 3 3]\n"
     ],
     "output_type": "stream"
    }
   ],
   "source": [
    "y_predict=category.predict(XX_test)\n",
    "print(y_predict)"
   ]
  },
  {
   "cell_type": "code",
   "execution_count": 80,
   "metadata": {
    "pycharm": {
     "is_executing": false
    }
   },
   "outputs": [
    {
     "data": {
      "text/plain": "0.9992162032171296"
     },
     "metadata": {},
     "output_type": "execute_result",
     "execution_count": 80
    }
   ],
   "source": [
    "accuracy_score(y_test,y_predict)"
   ]
  },
  {
   "cell_type": "code",
   "execution_count": 81,
   "metadata": {
    "pycharm": {
     "is_executing": false
    }
   },
   "outputs": [
    {
     "data": {
      "text/plain": "        Complaint_Type  Location_Type  City  Facility_Type  Borough  \\\n0                   14             11    31              0        2   \n1                    2             11     1              0        3   \n2                    2             11     6              0        0   \n3                   10             11     6              0        0   \n4                   10             11    13              0        3   \n...                ...            ...   ...            ...      ...   \n187117               2             11    46              0        1   \n187118               2             11    46              0        1   \n187119               2             11    46              0        1   \n187120               2             11    46              0        1   \n187121               2             11    46              0        1   \n\n        Park_Borough  Status  \n0                  2       1  \n1                  3       1  \n2                  0       1  \n3                  0       1  \n4                  3       1  \n...              ...     ...  \n187117             1       3  \n187118             1       3  \n187119             1       3  \n187120             1       3  \n187121             1       3  \n\n[187122 rows x 7 columns]",
      "text/html": "<div>\n<style scoped>\n    .dataframe tbody tr th:only-of-type {\n        vertical-align: middle;\n    }\n\n    .dataframe tbody tr th {\n        vertical-align: top;\n    }\n\n    .dataframe thead th {\n        text-align: right;\n    }\n</style>\n<table border=\"1\" class=\"dataframe\">\n  <thead>\n    <tr style=\"text-align: right;\">\n      <th></th>\n      <th>Complaint_Type</th>\n      <th>Location_Type</th>\n      <th>City</th>\n      <th>Facility_Type</th>\n      <th>Borough</th>\n      <th>Park_Borough</th>\n      <th>Status</th>\n    </tr>\n  </thead>\n  <tbody>\n    <tr>\n      <th>0</th>\n      <td>14</td>\n      <td>11</td>\n      <td>31</td>\n      <td>0</td>\n      <td>2</td>\n      <td>2</td>\n      <td>1</td>\n    </tr>\n    <tr>\n      <th>1</th>\n      <td>2</td>\n      <td>11</td>\n      <td>1</td>\n      <td>0</td>\n      <td>3</td>\n      <td>3</td>\n      <td>1</td>\n    </tr>\n    <tr>\n      <th>2</th>\n      <td>2</td>\n      <td>11</td>\n      <td>6</td>\n      <td>0</td>\n      <td>0</td>\n      <td>0</td>\n      <td>1</td>\n    </tr>\n    <tr>\n      <th>3</th>\n      <td>10</td>\n      <td>11</td>\n      <td>6</td>\n      <td>0</td>\n      <td>0</td>\n      <td>0</td>\n      <td>1</td>\n    </tr>\n    <tr>\n      <th>4</th>\n      <td>10</td>\n      <td>11</td>\n      <td>13</td>\n      <td>0</td>\n      <td>3</td>\n      <td>3</td>\n      <td>1</td>\n    </tr>\n    <tr>\n      <th>...</th>\n      <td>...</td>\n      <td>...</td>\n      <td>...</td>\n      <td>...</td>\n      <td>...</td>\n      <td>...</td>\n      <td>...</td>\n    </tr>\n    <tr>\n      <th>187117</th>\n      <td>2</td>\n      <td>11</td>\n      <td>46</td>\n      <td>0</td>\n      <td>1</td>\n      <td>1</td>\n      <td>3</td>\n    </tr>\n    <tr>\n      <th>187118</th>\n      <td>2</td>\n      <td>11</td>\n      <td>46</td>\n      <td>0</td>\n      <td>1</td>\n      <td>1</td>\n      <td>3</td>\n    </tr>\n    <tr>\n      <th>187119</th>\n      <td>2</td>\n      <td>11</td>\n      <td>46</td>\n      <td>0</td>\n      <td>1</td>\n      <td>1</td>\n      <td>3</td>\n    </tr>\n    <tr>\n      <th>187120</th>\n      <td>2</td>\n      <td>11</td>\n      <td>46</td>\n      <td>0</td>\n      <td>1</td>\n      <td>1</td>\n      <td>3</td>\n    </tr>\n    <tr>\n      <th>187121</th>\n      <td>2</td>\n      <td>11</td>\n      <td>46</td>\n      <td>0</td>\n      <td>1</td>\n      <td>1</td>\n      <td>3</td>\n    </tr>\n  </tbody>\n</table>\n<p>187122 rows × 7 columns</p>\n</div>"
     },
     "metadata": {},
     "output_type": "execute_result",
     "execution_count": 81
    }
   ],
   "source": [
    "data_set"
   ]
  },
  {
   "cell_type": "code",
   "execution_count": 82,
   "metadata": {
    "pycharm": {
     "is_executing": false
    }
   },
   "outputs": [],
   "source": [
    "from sklearn.tree import DecisionTreeClassifier"
   ]
  },
  {
   "cell_type": "code",
   "execution_count": 83,
   "metadata": {
    "pycharm": {
     "is_executing": false
    }
   },
   "outputs": [],
   "source": [
    "X_train,X_test,y_train,y_test=model_selection.train_test_split(x,y,random_state=42,test_size=0.3)"
   ]
  },
  {
   "cell_type": "code",
   "execution_count": 84,
   "metadata": {
    "pycharm": {
     "is_executing": false
    }
   },
   "outputs": [
    {
     "name": "stdout",
     "text": [
      "[3 3 3 ... 1 3 3]\n"
     ],
     "output_type": "stream"
    }
   ],
   "source": [
    "dtclf=DecisionTreeClassifier(criterion='entropy')\n",
    "dtclf.fit(X_train,y_train)\n",
    "y_pred = dtclf.predict(X_test)\n",
    "print(y_pred)\n"
   ]
  },
  {
   "cell_type": "code",
   "execution_count": 85,
   "metadata": {
    "pycharm": {
     "is_executing": false
    }
   },
   "outputs": [
    {
     "name": "stdout",
     "text": [
      "0.9992340167803766\n"
     ],
     "output_type": "stream"
    }
   ],
   "source": [
    "print(accuracy_score(y_test,y_pred))"
   ]
  },
  {
   "cell_type": "code",
   "execution_count": 86,
   "metadata": {
    "pycharm": {
     "is_executing": false
    }
   },
   "outputs": [
    {
     "name": "stdout",
     "text": [
      "[[   29     1    10     0]\n",
      " [    1  6517     5     0]\n",
      " [   25     1    21     0]\n",
      " [    0     0     0 49527]]\n"
     ],
     "output_type": "stream"
    }
   ],
   "source": [
    "from sklearn.metrics import confusion_matrix\n",
    "cm = confusion_matrix(y_test, y_pred)\n",
    "print(cm)\n"
   ]
  },
  {
   "cell_type": "code",
   "execution_count": 86,
   "metadata": {
    "pycharm": {
     "is_executing": false
    }
   },
   "outputs": [],
   "source": []
  }
 ],
 "metadata": {
  "kernelspec": {
   "display_name": "Python 3",
   "language": "python",
   "name": "python3"
  },
  "language_info": {
   "codemirror_mode": {
    "name": "ipython",
    "version": 3
   },
   "file_extension": ".py",
   "mimetype": "text/x-python",
   "name": "python",
   "nbconvert_exporter": "python",
   "pygments_lexer": "ipython3",
   "version": "3.7.3"
  },
  "pycharm": {
   "stem_cell": {
    "cell_type": "raw",
    "source": [],
    "metadata": {
     "collapsed": false
    }
   }
  }
 },
 "nbformat": 4,
 "nbformat_minor": 2
}