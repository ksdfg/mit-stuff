{
 "cells": [
  {
   "cell_type": "code",
   "execution_count": 2,
   "metadata": {
    "collapsed": true,
    "pycharm": {
     "is_executing": false
    }
   },
   "outputs": [],
   "source": [
    "import numpy as np\n",
    "import pandas as pd\n",
    "import matplotlib.pyplot as plt\n",
    "import seaborn as sns\n",
    "import warnings\n",
    "\n",
    "warnings.filterwarnings('ignore')"
   ]
  },
  {
   "cell_type": "code",
   "execution_count": 41,
   "outputs": [
    {
     "name": "stdout",
     "text": [
      "<class 'pandas.core.frame.DataFrame'>\n",
      "RangeIndex: 891 entries, 0 to 890\n",
      "Data columns (total 12 columns):\n",
      "PassengerId    891 non-null int64\n",
      "Survived       891 non-null int64\n",
      "Pclass         891 non-null int64\n",
      "Name           891 non-null object\n",
      "Sex            891 non-null object\n",
      "Age            714 non-null float64\n",
      "SibSp          891 non-null int64\n",
      "Parch          891 non-null int64\n",
      "Ticket         891 non-null object\n",
      "Fare           891 non-null float64\n",
      "Cabin          204 non-null object\n",
      "Embarked       889 non-null object\n",
      "dtypes: float64(2), int64(5), object(5)\n",
      "memory usage: 83.7+ KB\n",
      "None\n",
      "Index(['PassengerId', 'Survived', 'Pclass', 'Name', 'Sex', 'Age', 'SibSp',\n",
      "       'Parch', 'Ticket', 'Fare', 'Cabin', 'Embarked'],\n",
      "      dtype='object')\n",
      "\n",
      " head \n",
      "\n",
      "   PassengerId  Survived  Pclass  \\\n",
      "0            1         0       3   \n",
      "1            2         1       1   \n",
      "2            3         1       3   \n",
      "3            4         1       1   \n",
      "4            5         0       3   \n",
      "\n",
      "                                                Name     Sex   Age  SibSp  \\\n",
      "0                            Braund, Mr. Owen Harris    male  22.0      1   \n",
      "1  Cumings, Mrs. John Bradley (Florence Briggs Th...  female  38.0      1   \n",
      "2                             Heikkinen, Miss. Laina  female  26.0      0   \n",
      "3       Futrelle, Mrs. Jacques Heath (Lily May Peel)  female  35.0      1   \n",
      "4                           Allen, Mr. William Henry    male  35.0      0   \n",
      "\n",
      "   Parch            Ticket     Fare Cabin Embarked  \n",
      "0      0         A/5 21171   7.2500   NaN        S  \n",
      "1      0          PC 17599  71.2833   C85        C  \n",
      "2      0  STON/O2. 3101282   7.9250   NaN        S  \n",
      "3      0            113803  53.1000  C123        S  \n",
      "4      0            373450   8.0500   NaN        S  \n",
      "\n",
      " tail \n",
      "\n",
      "     PassengerId  Survived  Pclass                                      Name  \\\n",
      "886          887         0       2                     Montvila, Rev. Juozas   \n",
      "887          888         1       1              Graham, Miss. Margaret Edith   \n",
      "888          889         0       3  Johnston, Miss. Catherine Helen \"Carrie\"   \n",
      "889          890         1       1                     Behr, Mr. Karl Howell   \n",
      "890          891         0       3                       Dooley, Mr. Patrick   \n",
      "\n",
      "        Sex   Age  SibSp  Parch      Ticket   Fare Cabin Embarked  \n",
      "886    male  27.0      0      0      211536  13.00   NaN        S  \n",
      "887  female  19.0      0      0      112053  30.00   B42        S  \n",
      "888  female   NaN      1      2  W./C. 6607  23.45   NaN        S  \n",
      "889    male  26.0      0      0      111369  30.00  C148        C  \n",
      "890    male  32.0      0      0      370376   7.75   NaN        Q  \n"
     ],
     "output_type": "stream"
    }
   ],
   "source": [
    "dataset = pd.read_csv('titanic_train.csv')  # load dataset from csv\n",
    "print(dataset.info(), dataset.columns, sep='\\n')    # printing column info and list of columns\n",
    "print('\\n head \\n', dataset.head(), '\\n tail \\n', dataset.tail(), sep='\\n') # printing head and tail of dataset"
   ],
   "metadata": {
    "collapsed": false,
    "pycharm": {
     "name": "#%%\n",
     "is_executing": false
    }
   }
  },
  {
   "cell_type": "code",
   "execution_count": 21,
   "outputs": [
    {
     "name": "stdout",
     "text": [
      "     PassengerId  Survived  Pclass                                Name  \\\n",
      "271          272         1       3        Tornquist, Mr. William Henry   \n",
      "597          598         0       3                 Johnson, Mr. Alfred   \n",
      "302          303         0       3     Johnson, Mr. William Cahoone Jr   \n",
      "633          634         0       1       Parr, Mr. William Henry Marsh   \n",
      "277          278         0       2         Parkes, Mr. Francis \"Frank\"   \n",
      "..           ...       ...     ...                                 ...   \n",
      "438          439         0       1                   Fortune, Mr. Mark   \n",
      "341          342         1       1      Fortune, Miss. Alice Elizabeth   \n",
      "737          738         1       1              Lesurer, Mr. Gustave J   \n",
      "258          259         1       1                    Ward, Miss. Anna   \n",
      "679          680         1       1  Cardeza, Mr. Thomas Drake Martinez   \n",
      "\n",
      "        Sex   Age  SibSp  Parch    Ticket      Fare        Cabin Embarked  \n",
      "271    male  25.0      0      0      LINE    0.0000          NaN        S  \n",
      "597    male  49.0      0      0      LINE    0.0000          NaN        S  \n",
      "302    male  19.0      0      0      LINE    0.0000          NaN        S  \n",
      "633    male   NaN      0      0    112052    0.0000          NaN        S  \n",
      "277    male   NaN      0      0    239853    0.0000          NaN        S  \n",
      "..      ...   ...    ...    ...       ...       ...          ...      ...  \n",
      "438    male  64.0      1      4     19950  263.0000  C23 C25 C27        S  \n",
      "341  female  24.0      3      2     19950  263.0000  C23 C25 C27        S  \n",
      "737    male  35.0      0      0  PC 17755  512.3292         B101        C  \n",
      "258  female  35.0      0      0  PC 17755  512.3292          NaN        C  \n",
      "679    male  36.0      0      1  PC 17755  512.3292  B51 B53 B55        C  \n",
      "\n",
      "[891 rows x 12 columns]\n",
      "     PassengerId  Survived  Pclass                                Name  \\\n",
      "179          180         0       3                 Leonard, Mr. Lionel   \n",
      "263          264         0       1               Harrison, Mr. William   \n",
      "271          272         1       3        Tornquist, Mr. William Henry   \n",
      "277          278         0       2         Parkes, Mr. Francis \"Frank\"   \n",
      "302          303         0       3     Johnson, Mr. William Cahoone Jr   \n",
      "..           ...       ...     ...                                 ...   \n",
      "27            28         0       1      Fortune, Mr. Charles Alexander   \n",
      "438          439         0       1                   Fortune, Mr. Mark   \n",
      "258          259         1       1                    Ward, Miss. Anna   \n",
      "679          680         1       1  Cardeza, Mr. Thomas Drake Martinez   \n",
      "737          738         1       1              Lesurer, Mr. Gustave J   \n",
      "\n",
      "        Sex   Age  SibSp  Parch    Ticket      Fare        Cabin Embarked  \n",
      "179    male  36.0      0      0      LINE    0.0000          NaN        S  \n",
      "263    male  40.0      0      0    112059    0.0000          B94        S  \n",
      "271    male  25.0      0      0      LINE    0.0000          NaN        S  \n",
      "277    male   NaN      0      0    239853    0.0000          NaN        S  \n",
      "302    male  19.0      0      0      LINE    0.0000          NaN        S  \n",
      "..      ...   ...    ...    ...       ...       ...          ...      ...  \n",
      "27     male  19.0      3      2     19950  263.0000  C23 C25 C27        S  \n",
      "438    male  64.0      1      4     19950  263.0000  C23 C25 C27        S  \n",
      "258  female  35.0      0      0  PC 17755  512.3292          NaN        C  \n",
      "679    male  36.0      0      1  PC 17755  512.3292  B51 B53 B55        C  \n",
      "737    male  35.0      0      0  PC 17755  512.3292         B101        C  \n",
      "\n",
      "[891 rows x 12 columns]\n"
     ],
     "output_type": "stream"
    }
   ],
   "source": [
    "print(dataset.sort_values('Fare'))  # sorting the dataset by fare\n",
    "print(dataset.sort_values(['Fare', 'Sex']))  # sorting the dataset by fare and sex - group by fare, sort by sex"
   ],
   "metadata": {
    "collapsed": false,
    "pycharm": {
     "name": "#%%\n",
     "is_executing": false
    }
   }
  },
  {
   "cell_type": "code",
   "execution_count": 58,
   "outputs": [
    {
     "name": "stdout",
     "text": [
      "\n",
      "\n",
      "by value\n",
      "\n",
      "\n",
      "   PassengerId  Survived  Pclass                     Name   Sex   Age  SibSp  \\\n",
      "0            1         0       3  Braund, Mr. Owen Harris  male  22.0      1   \n",
      "\n",
      "   Parch     Ticket  Fare Cabin Embarked  \n",
      "0      0  A/5 21171  7.25   NaN        S  \n",
      "\n",
      "\n",
      "iloc\n",
      "\n",
      "\n",
      "   PassengerId  Survived  Pclass  \\\n",
      "3            4         1       1   \n",
      "4            5         0       3   \n",
      "5            6         0       3   \n",
      "\n",
      "                                           Name     Sex   Age  SibSp  Parch  \\\n",
      "3  Futrelle, Mrs. Jacques Heath (Lily May Peel)  female  35.0      1      0   \n",
      "4                      Allen, Mr. William Henry    male  35.0      0      0   \n",
      "5                              Moran, Mr. James    male   NaN      0      0   \n",
      "\n",
      "   Ticket     Fare Cabin Embarked  \n",
      "3  113803  53.1000  C123        S  \n",
      "4  373450   8.0500   NaN        S  \n",
      "5  330877   8.4583   NaN        Q  \n"
     ],
     "output_type": "stream"
    }
   ],
   "source": [
    "print('\\n\\nby value\\n\\n', dataset[dataset['PassengerId'] == 1], sep='\\n') # filter rows by value of attribute\n",
    "print('\\n\\niloc\\n\\n', dataset.iloc[3:6], sep='\\n')    # filter rows by index number of row"
   ],
   "metadata": {
    "collapsed": false,
    "pycharm": {
     "name": "#%%\n",
     "is_executing": false
    }
   }
  },
  {
   "cell_type": "code",
   "execution_count": 46,
   "outputs": [
    {
     "name": "stdout",
     "text": [
      "PassengerId      0\n",
      "Survived         0\n",
      "Pclass           0\n",
      "Name             0\n",
      "Sex              0\n",
      "Age            177\n",
      "SibSp            0\n",
      "Parch            0\n",
      "Ticket           0\n",
      "Fare             0\n",
      "Cabin          687\n",
      "Embarked         2\n",
      "dtype: int64\n",
      "\n",
      "\n",
      "PassengerId    0\n",
      "Survived       0\n",
      "Pclass         0\n",
      "Name           0\n",
      "Sex            0\n",
      "Age            0\n",
      "SibSp          0\n",
      "Parch          0\n",
      "Ticket         0\n",
      "Fare           0\n",
      "Cabin          0\n",
      "Embarked       0\n",
      "dtype: int64\n",
      "\n",
      "\n",
      "(183, 12)\n",
      "\n",
      "\n",
      "(891, 12)\n",
      "\n",
      "\n"
     ],
     "output_type": "stream"
    }
   ],
   "source": [
    "print(dataset.isnull().sum(), end='\\n\\n\\n')   # prints how many values in each column are null\n",
    "no_null = pd.read_csv('titanic_train.csv')  # temp obj\n",
    "no_null.dropna(inplace=True)    # drop all null values from dataset\n",
    "print(no_null.isnull().sum(), no_null.shape, dataset.shape, sep='\\n\\n\\n', end='\\n\\n\\n')"
   ],
   "metadata": {
    "collapsed": false,
    "pycharm": {
     "name": "#%%\n",
     "is_executing": false
    }
   }
  },
  {
   "cell_type": "code",
   "execution_count": 90,
   "outputs": [
    {
     "name": "stdout",
     "text": [
      "177\n",
      "886    27.0\n",
      "887    19.0\n",
      "888     NaN\n",
      "889    26.0\n",
      "890    32.0\n",
      "Name: Age, dtype: float64 \n",
      "\n",
      "\n",
      "\n",
      "886    27.000000\n",
      "887    19.000000\n",
      "888    29.699118\n",
      "889    26.000000\n",
      "890    32.000000\n",
      "Name: Age, dtype: float64\n"
     ],
     "output_type": "stream"
    }
   ],
   "source": [
    "print(dataset['Age'].isnull().sum())    # number of tuples where age is null\n",
    "print(dataset['Age'].tail(), '\\n\\n\\n')  # tail of dataset before replacing null values in age\n",
    "print(dataset['Age'].replace(np.NaN, dataset['Age'].mean()).tail()) # after replacing null values in age"
   ],
   "metadata": {
    "collapsed": false,
    "pycharm": {
     "name": "#%%\n",
     "is_executing": false
    }
   }
  },
  {
   "cell_type": "code",
   "execution_count": 111,
   "outputs": [
    {
     "name": "stdout",
     "text": [
      "(897, 12) (891, 12)\n"
     ],
     "output_type": "stream"
    }
   ],
   "source": [
    "# duplicates\n",
    "duplicates = dataset.duplicated(keep='first')\n",
    "print(dataset.shape, dataset[~duplicates].shape)    # dataset with duplicates, then without\n"
   ],
   "metadata": {
    "collapsed": false,
    "pycharm": {
     "name": "#%%\n",
     "is_executing": false
    }
   }
  }
 ],
 "metadata": {
  "kernelspec": {
   "display_name": "Python 3",
   "language": "python",
   "name": "python3"
  },
  "language_info": {
   "codemirror_mode": {
    "name": "ipython",
    "version": 2
   },
   "file_extension": ".py",
   "mimetype": "text/x-python",
   "name": "python",
   "nbconvert_exporter": "python",
   "pygments_lexer": "ipython2",
   "version": "2.7.6"
  },
  "pycharm": {
   "stem_cell": {
    "cell_type": "raw",
    "source": [],
    "metadata": {
     "collapsed": false
    }
   }
  }
 },
 "nbformat": 4,
 "nbformat_minor": 0
}